{
 "cells": [
  {
   "cell_type": "markdown",
   "metadata": {},
   "source": [
    "# MANTILLA Omar Augusto - INDIVIDUAL PROJECT"
   ]
  },
  {
   "cell_type": "code",
   "execution_count": 81,
   "metadata": {},
   "outputs": [
    {
     "data": {
      "text/html": [
       "        <script type=\"text/javascript\">\n",
       "        window.PlotlyConfig = {MathJaxConfig: 'local'};\n",
       "        if (window.MathJax) {MathJax.Hub.Config({SVG: {font: \"STIX-Web\"}});}\n",
       "        if (typeof require !== 'undefined') {\n",
       "        require.undef(\"plotly\");\n",
       "        requirejs.config({\n",
       "            paths: {\n",
       "                'plotly': ['https://cdn.plot.ly/plotly-2.9.0.min']\n",
       "            }\n",
       "        });\n",
       "        require(['plotly'], function(Plotly) {\n",
       "            window._Plotly = Plotly;\n",
       "        });\n",
       "        }\n",
       "        </script>\n",
       "        "
      ]
     },
     "metadata": {},
     "output_type": "display_data"
    },
    {
     "name": "stderr",
     "output_type": "stream",
     "text": [
      "[nltk_data] Downloading package punkt to\n",
      "[nltk_data]     C:\\Users\\omantilla\\AppData\\Roaming\\nltk_data...\n",
      "[nltk_data]   Package punkt is already up-to-date!\n",
      "[nltk_data] Downloading package stopwords to\n",
      "[nltk_data]     C:\\Users\\omantilla\\AppData\\Roaming\\nltk_data...\n",
      "[nltk_data]   Package stopwords is already up-to-date!\n"
     ]
    }
   ],
   "source": [
    "# Loading the necessary Libraries.\n",
    "import pandas as pd \n",
    "import numpy as np \n",
    "import surprise\n",
    "import matplotlib.pyplot as plt\n",
    "import plotly.graph_objs as go\n",
    "from numpy.linalg                import norm\n",
    "from surprise                    import accuracy\n",
    "from surprise                    import SVD, SVDpp, SlopeOne, NMF, NormalPredictor, BaselineOnly\n",
    "from surprise                    import CoClustering\n",
    "from sklearn.model_selection     import train_test_split\n",
    "from surprise                    import Dataset, Reader, KNNBasic, accuracy, KNNWithMeans, KNNWithZScore, KNNBaseline\n",
    "from IESEGRecSys                 import eval\n",
    "from sklearn.metrics             import ndcg_score, roc_auc_score, roc_curve\n",
    "from surprise.model_selection    import GridSearchCV\n",
    "from sklearn.experimental        import enable_halving_search_cv\n",
    "from sklearn.model_selection     import HalvingGridSearchCV\n",
    "from sklearn.neighbors           import NearestNeighbors\n",
    "from surprise.model_selection    import cross_validate\n",
    "from plotly.offline              import init_notebook_mode, plot, iplot\n",
    "from surprise.prediction_algorithms.co_clustering import CoClustering\n",
    "import seaborn as sns\n",
    "from IESEGRecSys import eval\n",
    "from IESEGRecSys.model import ContentBased\n",
    "init_notebook_mode(connected=True)\n",
    "\n",
    "# NLP packages\n",
    "import nltk # pip install nltk\n",
    "nltk.download('punkt')\n",
    "nltk.download('stopwords')\n",
    "from nltk.tokenize import word_tokenize\n",
    "from nltk.corpus import stopwords\n",
    "from sklearn.feature_extraction.text import TfidfVectorizer\n",
    "from nltk.stem.snowball import SnowballStemmer\n",
    "from sklearn.pipeline import make_pipeline\n"
   ]
  },
  {
   "cell_type": "markdown",
   "metadata": {},
   "source": [
    "## READING THE DATA"
   ]
  },
  {
   "cell_type": "code",
   "execution_count": 46,
   "metadata": {},
   "outputs": [],
   "source": [
    "# Metadata\n",
    "meta = pd.read_csv(\"../Data/metadata.csv\")\n",
    "\n",
    "# Train\n",
    "train = pd.read_csv(\"../Data/train.csv\")\n",
    "\n",
    "# Test\n",
    "test = pd.read_csv(\"../Data/test_students.csv\")"
   ]
  },
  {
   "cell_type": "markdown",
   "metadata": {},
   "source": [
    "## DATA EXPLORATION"
   ]
  },
  {
   "cell_type": "markdown",
   "metadata": {},
   "source": [
    "### Meta Dataset."
   ]
  },
  {
   "cell_type": "code",
   "execution_count": 47,
   "metadata": {},
   "outputs": [
    {
     "data": {
      "text/html": [
       "<div>\n",
       "<style scoped>\n",
       "    .dataframe tbody tr th:only-of-type {\n",
       "        vertical-align: middle;\n",
       "    }\n",
       "\n",
       "    .dataframe tbody tr th {\n",
       "        vertical-align: top;\n",
       "    }\n",
       "\n",
       "    .dataframe thead th {\n",
       "        text-align: right;\n",
       "    }\n",
       "</style>\n",
       "<table border=\"1\" class=\"dataframe\">\n",
       "  <thead>\n",
       "    <tr style=\"text-align: right;\">\n",
       "      <th></th>\n",
       "      <th>asin</th>\n",
       "      <th>category</th>\n",
       "      <th>description</th>\n",
       "      <th>title</th>\n",
       "      <th>image</th>\n",
       "      <th>feature</th>\n",
       "      <th>main_cat</th>\n",
       "      <th>price</th>\n",
       "    </tr>\n",
       "  </thead>\n",
       "  <tbody>\n",
       "    <tr>\n",
       "      <th>0</th>\n",
       "      <td>1612231977</td>\n",
       "      <td>['Pet Supplies', 'Dogs', 'Health Supplies', 'H...</td>\n",
       "      <td>['Dr. Rexy hemp oil has powerful anti-inflamma...</td>\n",
       "      <td>DR.REXY Hemp Oil for Dogs and Cats - 100% Orga...</td>\n",
       "      <td>['https://images-na.ssl-images-amazon.com/imag...</td>\n",
       "      <td>['Made strictly with organic derived ingredien...</td>\n",
       "      <td>Amazon Home</td>\n",
       "      <td>$19.90</td>\n",
       "    </tr>\n",
       "    <tr>\n",
       "      <th>1</th>\n",
       "      <td>6162622851</td>\n",
       "      <td>['Pet Supplies', 'Dogs', 'Flea &amp; Tick Control'...</td>\n",
       "      <td>['Kills and repels fleas and ticks for 8 conti...</td>\n",
       "      <td>Bayer Seresto Flea and Tick Collar for Dogs</td>\n",
       "      <td>['https://images-na.ssl-images-amazon.com/imag...</td>\n",
       "      <td>['Veterinarian-recommended ea and tick prevent...</td>\n",
       "      <td>Pet Supplies</td>\n",
       "      <td>$37.99</td>\n",
       "    </tr>\n",
       "    <tr>\n",
       "      <th>2</th>\n",
       "      <td>B00000IRNW</td>\n",
       "      <td>['Pet Supplies', 'Dogs', 'Toys', 'Balls']</td>\n",
       "      <td>['100 Rokenbok balls. 50 large blue balls and ...</td>\n",
       "      <td>Rokenbok ROK Balls</td>\n",
       "      <td>[]</td>\n",
       "      <td>['Modular- interacts with all Rokenbok', 'Roke...</td>\n",
       "      <td>Toys &amp; Games</td>\n",
       "      <td>NaN</td>\n",
       "    </tr>\n",
       "    <tr>\n",
       "      <th>3</th>\n",
       "      <td>B00004T2WR</td>\n",
       "      <td>['Pet Supplies', 'Dogs', 'Collars, Harnesses &amp;...</td>\n",
       "      <td>['The Get Up \\'n Go Discovery Center from Play...</td>\n",
       "      <td>Exclusive Playskool Electronic Activity Table</td>\n",
       "      <td>['https://images-na.ssl-images-amazon.com/imag...</td>\n",
       "      <td>[\"INTELLIGENT ANTI-INJURY CHIP: We always put ...</td>\n",
       "      <td>Pet Supplies</td>\n",
       "      <td>NaN</td>\n",
       "    </tr>\n",
       "    <tr>\n",
       "      <th>4</th>\n",
       "      <td>B00005MF9U</td>\n",
       "      <td>['Pet Supplies', 'Cats', 'Litter &amp;amp; Housebr...</td>\n",
       "      <td>['LitterMaid LM900 self-cleaning cat litter bo...</td>\n",
       "      <td>LitterMaid LM900 Mega Self-Cleaning Litter Box</td>\n",
       "      <td>['https://images-na.ssl-images-amazon.com/imag...</td>\n",
       "      <td>['Automatically rakes waste into sealable cont...</td>\n",
       "      <td>Pet Supplies</td>\n",
       "      <td>NaN</td>\n",
       "    </tr>\n",
       "  </tbody>\n",
       "</table>\n",
       "</div>"
      ],
      "text/plain": [
       "         asin                                           category  \\\n",
       "0  1612231977  ['Pet Supplies', 'Dogs', 'Health Supplies', 'H...   \n",
       "1  6162622851  ['Pet Supplies', 'Dogs', 'Flea & Tick Control'...   \n",
       "2  B00000IRNW          ['Pet Supplies', 'Dogs', 'Toys', 'Balls']   \n",
       "3  B00004T2WR  ['Pet Supplies', 'Dogs', 'Collars, Harnesses &...   \n",
       "4  B00005MF9U  ['Pet Supplies', 'Cats', 'Litter &amp; Housebr...   \n",
       "\n",
       "                                         description  \\\n",
       "0  ['Dr. Rexy hemp oil has powerful anti-inflamma...   \n",
       "1  ['Kills and repels fleas and ticks for 8 conti...   \n",
       "2  ['100 Rokenbok balls. 50 large blue balls and ...   \n",
       "3  ['The Get Up \\'n Go Discovery Center from Play...   \n",
       "4  ['LitterMaid LM900 self-cleaning cat litter bo...   \n",
       "\n",
       "                                               title  \\\n",
       "0  DR.REXY Hemp Oil for Dogs and Cats - 100% Orga...   \n",
       "1        Bayer Seresto Flea and Tick Collar for Dogs   \n",
       "2                                 Rokenbok ROK Balls   \n",
       "3      Exclusive Playskool Electronic Activity Table   \n",
       "4     LitterMaid LM900 Mega Self-Cleaning Litter Box   \n",
       "\n",
       "                                               image  \\\n",
       "0  ['https://images-na.ssl-images-amazon.com/imag...   \n",
       "1  ['https://images-na.ssl-images-amazon.com/imag...   \n",
       "2                                                 []   \n",
       "3  ['https://images-na.ssl-images-amazon.com/imag...   \n",
       "4  ['https://images-na.ssl-images-amazon.com/imag...   \n",
       "\n",
       "                                             feature      main_cat   price  \n",
       "0  ['Made strictly with organic derived ingredien...   Amazon Home  $19.90  \n",
       "1  ['Veterinarian-recommended ea and tick prevent...  Pet Supplies  $37.99  \n",
       "2  ['Modular- interacts with all Rokenbok', 'Roke...  Toys & Games     NaN  \n",
       "3  [\"INTELLIGENT ANTI-INJURY CHIP: We always put ...  Pet Supplies     NaN  \n",
       "4  ['Automatically rakes waste into sealable cont...  Pet Supplies     NaN  "
      ]
     },
     "execution_count": 47,
     "metadata": {},
     "output_type": "execute_result"
    }
   ],
   "source": [
    "# Checking the Meta Dataset. This is just to check how the dataset looks like.\n",
    "meta.head()"
   ]
  },
  {
   "cell_type": "code",
   "execution_count": 48,
   "metadata": {},
   "outputs": [
    {
     "data": {
      "text/plain": [
       "(2577, 8)"
      ]
     },
     "execution_count": 48,
     "metadata": {},
     "output_type": "execute_result"
    }
   ],
   "source": [
    "# Checking meta data shape to see the dataset dimensions.\n",
    "meta.shape"
   ]
  },
  {
   "cell_type": "code",
   "execution_count": 49,
   "metadata": {},
   "outputs": [
    {
     "data": {
      "text/plain": [
       "Index(['asin', 'category', 'description', 'title', 'image', 'feature',\n",
       "       'main_cat', 'price'],\n",
       "      dtype='object')"
      ]
     },
     "execution_count": 49,
     "metadata": {},
     "output_type": "execute_result"
    }
   ],
   "source": [
    "# Check meta columns names.\n",
    "meta.columns"
   ]
  },
  {
   "cell_type": "markdown",
   "metadata": {},
   "source": [
    "### Train Dataset."
   ]
  },
  {
   "cell_type": "code",
   "execution_count": 50,
   "metadata": {},
   "outputs": [
    {
     "data": {
      "text/html": [
       "<div>\n",
       "<style scoped>\n",
       "    .dataframe tbody tr th:only-of-type {\n",
       "        vertical-align: middle;\n",
       "    }\n",
       "\n",
       "    .dataframe tbody tr th {\n",
       "        vertical-align: top;\n",
       "    }\n",
       "\n",
       "    .dataframe thead th {\n",
       "        text-align: right;\n",
       "    }\n",
       "</style>\n",
       "<table border=\"1\" class=\"dataframe\">\n",
       "  <thead>\n",
       "    <tr style=\"text-align: right;\">\n",
       "      <th></th>\n",
       "      <th>userID</th>\n",
       "      <th>overall</th>\n",
       "      <th>asin</th>\n",
       "      <th>vote</th>\n",
       "      <th>reviewText</th>\n",
       "      <th>summary</th>\n",
       "      <th>style</th>\n",
       "      <th>image</th>\n",
       "    </tr>\n",
       "  </thead>\n",
       "  <tbody>\n",
       "    <tr>\n",
       "      <th>0</th>\n",
       "      <td>13527</td>\n",
       "      <td>5.0</td>\n",
       "      <td>B0002565TI</td>\n",
       "      <td>NaN</td>\n",
       "      <td>These filters used to be sold at PetCo, but no...</td>\n",
       "      <td>Great Place to Get Filte-rs</td>\n",
       "      <td>NaN</td>\n",
       "      <td>NaN</td>\n",
       "    </tr>\n",
       "    <tr>\n",
       "      <th>1</th>\n",
       "      <td>14608</td>\n",
       "      <td>2.0</td>\n",
       "      <td>B0002H3ZLM</td>\n",
       "      <td>NaN</td>\n",
       "      <td>Did not work for my large- does. Returned it.</td>\n",
       "      <td>T#wo Stars</td>\n",
       "      <td>{'Size:': ' LARGE 60-130 LBS.', 'Color:': ' BL...</td>\n",
       "      <td>NaN</td>\n",
       "    </tr>\n",
       "    <tr>\n",
       "      <th>2</th>\n",
       "      <td>15536</td>\n",
       "      <td>5.0</td>\n",
       "      <td>B0009YD8OC</td>\n",
       "      <td>NaN</td>\n",
       "      <td>I was pretty skeptical that this would be easy...</td>\n",
       "      <td>stops pulling in a 6 month 60{ pound pup great!</td>\n",
       "      <td>NaN</td>\n",
       "      <td>NaN</td>\n",
       "    </tr>\n",
       "    <tr>\n",
       "      <th>3</th>\n",
       "      <td>12868</td>\n",
       "      <td>5.0</td>\n",
       "      <td>B001VPA9OK</td>\n",
       "      <td>NaN</td>\n",
       "      <td>Works great for groom-ing my dog. A must have.</td>\n",
       "      <td>Five /Stars</td>\n",
       "      <td>{'Color:': ' Silver'}</td>\n",
       "      <td>NaN</td>\n",
       "    </tr>\n",
       "    <tr>\n",
       "      <th>4</th>\n",
       "      <td>181</td>\n",
       "      <td>5.0</td>\n",
       "      <td>B000K67UF2</td>\n",
       "      <td>NaN</td>\n",
       "      <td>Great cage for budgies! I cant say enough marv...</td>\n",
       "      <td>Great cage for budg{ies</td>\n",
       "      <td>{'Size:': ' Medium', 'Pattern:': ' MO2 Cage'}</td>\n",
       "      <td>NaN</td>\n",
       "    </tr>\n",
       "  </tbody>\n",
       "</table>\n",
       "</div>"
      ],
      "text/plain": [
       "   userID  overall        asin vote  \\\n",
       "0   13527      5.0  B0002565TI  NaN   \n",
       "1   14608      2.0  B0002H3ZLM  NaN   \n",
       "2   15536      5.0  B0009YD8OC  NaN   \n",
       "3   12868      5.0  B001VPA9OK  NaN   \n",
       "4     181      5.0  B000K67UF2  NaN   \n",
       "\n",
       "                                          reviewText  \\\n",
       "0  These filters used to be sold at PetCo, but no...   \n",
       "1      Did not work for my large- does. Returned it.   \n",
       "2  I was pretty skeptical that this would be easy...   \n",
       "3     Works great for groom-ing my dog. A must have.   \n",
       "4  Great cage for budgies! I cant say enough marv...   \n",
       "\n",
       "                                           summary  \\\n",
       "0                      Great Place to Get Filte-rs   \n",
       "1                                       T#wo Stars   \n",
       "2  stops pulling in a 6 month 60{ pound pup great!   \n",
       "3                                      Five /Stars   \n",
       "4                          Great cage for budg{ies   \n",
       "\n",
       "                                               style image  \n",
       "0                                                NaN   NaN  \n",
       "1  {'Size:': ' LARGE 60-130 LBS.', 'Color:': ' BL...   NaN  \n",
       "2                                                NaN   NaN  \n",
       "3                              {'Color:': ' Silver'}   NaN  \n",
       "4      {'Size:': ' Medium', 'Pattern:': ' MO2 Cage'}   NaN  "
      ]
     },
     "execution_count": 50,
     "metadata": {},
     "output_type": "execute_result"
    }
   ],
   "source": [
    "# Checking the train dataset. This is just to check how the dataset looks like.\n",
    "train.head()"
   ]
  },
  {
   "cell_type": "code",
   "execution_count": 51,
   "metadata": {},
   "outputs": [
    {
     "data": {
      "text/plain": [
       "(161753, 8)"
      ]
     },
     "execution_count": 51,
     "metadata": {},
     "output_type": "execute_result"
    }
   ],
   "source": [
    "# Checking train data shape to see the dataset dimensions.\n",
    "train.shape"
   ]
  },
  {
   "cell_type": "markdown",
   "metadata": {},
   "source": [
    "Train data set is bigger than test set"
   ]
  },
  {
   "cell_type": "code",
   "execution_count": 52,
   "metadata": {},
   "outputs": [
    {
     "data": {
      "text/plain": [
       "Index(['userID', 'overall', 'asin', 'vote', 'reviewText', 'summary', 'style',\n",
       "       'image'],\n",
       "      dtype='object')"
      ]
     },
     "execution_count": 52,
     "metadata": {},
     "output_type": "execute_result"
    }
   ],
   "source": [
    "# Check train columns names.\n",
    "train.columns"
   ]
  },
  {
   "cell_type": "code",
   "execution_count": 53,
   "metadata": {},
   "outputs": [
    {
     "data": {
      "text/html": [
       "<div>\n",
       "<style scoped>\n",
       "    .dataframe tbody tr th:only-of-type {\n",
       "        vertical-align: middle;\n",
       "    }\n",
       "\n",
       "    .dataframe tbody tr th {\n",
       "        vertical-align: top;\n",
       "    }\n",
       "\n",
       "    .dataframe thead th {\n",
       "        text-align: right;\n",
       "    }\n",
       "</style>\n",
       "<table border=\"1\" class=\"dataframe\">\n",
       "  <thead>\n",
       "    <tr style=\"text-align: right;\">\n",
       "      <th></th>\n",
       "      <th>count</th>\n",
       "      <th>mean</th>\n",
       "      <th>std</th>\n",
       "      <th>min</th>\n",
       "      <th>25%</th>\n",
       "      <th>50%</th>\n",
       "      <th>75%</th>\n",
       "      <th>max</th>\n",
       "    </tr>\n",
       "  </thead>\n",
       "  <tbody>\n",
       "    <tr>\n",
       "      <th>overall</th>\n",
       "      <td>161753.0</td>\n",
       "      <td>4.325972</td>\n",
       "      <td>1.143786</td>\n",
       "      <td>1.0</td>\n",
       "      <td>4.0</td>\n",
       "      <td>5.0</td>\n",
       "      <td>5.0</td>\n",
       "      <td>5.0</td>\n",
       "    </tr>\n",
       "  </tbody>\n",
       "</table>\n",
       "</div>"
      ],
      "text/plain": [
       "            count      mean       std  min  25%  50%  75%  max\n",
       "overall  161753.0  4.325972  1.143786  1.0  4.0  5.0  5.0  5.0"
      ]
     },
     "execution_count": 53,
     "metadata": {},
     "output_type": "execute_result"
    }
   ],
   "source": [
    "# Chech the summary statistics of the train overall.\n",
    "train[['overall']].describe().transpose()"
   ]
  },
  {
   "cell_type": "code",
   "execution_count": 54,
   "metadata": {},
   "outputs": [
    {
     "name": "stdout",
     "output_type": "stream",
     "text": [
      "Total data \n",
      "####################################################################################################\n",
      "\n",
      "Total No of ratings : 161753\n",
      "Total No of Users   : 22181\n",
      "Total No of products  : 2310\n"
     ]
    }
   ],
   "source": [
    "# Check unique users, overall scores and items of the train set\n",
    "print(\"Total data \")\n",
    "print(\"#\"*100)\n",
    "print(\"\\nTotal No of ratings :\",train.shape[0])\n",
    "print(\"Total No of Users   :\", len(np.unique(train.userID)))\n",
    "print(\"Total No of products  :\", len(np.unique(train.asin)))\n"
   ]
  },
  {
   "cell_type": "markdown",
   "metadata": {},
   "source": [
    "## Check the rating distribution in the train dataset"
   ]
  },
  {
   "cell_type": "code",
   "execution_count": 55,
   "metadata": {},
   "outputs": [
    {
     "data": {
      "application/vnd.plotly.v1+json": {
       "config": {
        "linkText": "Export to plot.ly",
        "plotlyServerURL": "https://plot.ly",
        "showLink": false
       },
       "data": [
        {
         "marker": {
          "color": "#db0000"
         },
         "text": [
          "66.5 %",
          "14.8 %",
          "8.7 %",
          "4.8 %",
          "5.2 %"
         ],
         "textfont": {
          "color": "#000000"
         },
         "textposition": "auto",
         "type": "bar",
         "x": [
          5,
          4,
          3,
          2,
          1
         ],
         "y": [
          107620,
          23909,
          14029,
          7721,
          8474
         ]
        }
       ],
       "layout": {
        "template": {
         "data": {
          "bar": [
           {
            "error_x": {
             "color": "#2a3f5f"
            },
            "error_y": {
             "color": "#2a3f5f"
            },
            "marker": {
             "line": {
              "color": "#E5ECF6",
              "width": 0.5
             },
             "pattern": {
              "fillmode": "overlay",
              "size": 10,
              "solidity": 0.2
             }
            },
            "type": "bar"
           }
          ],
          "barpolar": [
           {
            "marker": {
             "line": {
              "color": "#E5ECF6",
              "width": 0.5
             },
             "pattern": {
              "fillmode": "overlay",
              "size": 10,
              "solidity": 0.2
             }
            },
            "type": "barpolar"
           }
          ],
          "carpet": [
           {
            "aaxis": {
             "endlinecolor": "#2a3f5f",
             "gridcolor": "white",
             "linecolor": "white",
             "minorgridcolor": "white",
             "startlinecolor": "#2a3f5f"
            },
            "baxis": {
             "endlinecolor": "#2a3f5f",
             "gridcolor": "white",
             "linecolor": "white",
             "minorgridcolor": "white",
             "startlinecolor": "#2a3f5f"
            },
            "type": "carpet"
           }
          ],
          "choropleth": [
           {
            "colorbar": {
             "outlinewidth": 0,
             "ticks": ""
            },
            "type": "choropleth"
           }
          ],
          "contour": [
           {
            "colorbar": {
             "outlinewidth": 0,
             "ticks": ""
            },
            "colorscale": [
             [
              0,
              "#0d0887"
             ],
             [
              0.1111111111111111,
              "#46039f"
             ],
             [
              0.2222222222222222,
              "#7201a8"
             ],
             [
              0.3333333333333333,
              "#9c179e"
             ],
             [
              0.4444444444444444,
              "#bd3786"
             ],
             [
              0.5555555555555556,
              "#d8576b"
             ],
             [
              0.6666666666666666,
              "#ed7953"
             ],
             [
              0.7777777777777778,
              "#fb9f3a"
             ],
             [
              0.8888888888888888,
              "#fdca26"
             ],
             [
              1,
              "#f0f921"
             ]
            ],
            "type": "contour"
           }
          ],
          "contourcarpet": [
           {
            "colorbar": {
             "outlinewidth": 0,
             "ticks": ""
            },
            "type": "contourcarpet"
           }
          ],
          "heatmap": [
           {
            "colorbar": {
             "outlinewidth": 0,
             "ticks": ""
            },
            "colorscale": [
             [
              0,
              "#0d0887"
             ],
             [
              0.1111111111111111,
              "#46039f"
             ],
             [
              0.2222222222222222,
              "#7201a8"
             ],
             [
              0.3333333333333333,
              "#9c179e"
             ],
             [
              0.4444444444444444,
              "#bd3786"
             ],
             [
              0.5555555555555556,
              "#d8576b"
             ],
             [
              0.6666666666666666,
              "#ed7953"
             ],
             [
              0.7777777777777778,
              "#fb9f3a"
             ],
             [
              0.8888888888888888,
              "#fdca26"
             ],
             [
              1,
              "#f0f921"
             ]
            ],
            "type": "heatmap"
           }
          ],
          "heatmapgl": [
           {
            "colorbar": {
             "outlinewidth": 0,
             "ticks": ""
            },
            "colorscale": [
             [
              0,
              "#0d0887"
             ],
             [
              0.1111111111111111,
              "#46039f"
             ],
             [
              0.2222222222222222,
              "#7201a8"
             ],
             [
              0.3333333333333333,
              "#9c179e"
             ],
             [
              0.4444444444444444,
              "#bd3786"
             ],
             [
              0.5555555555555556,
              "#d8576b"
             ],
             [
              0.6666666666666666,
              "#ed7953"
             ],
             [
              0.7777777777777778,
              "#fb9f3a"
             ],
             [
              0.8888888888888888,
              "#fdca26"
             ],
             [
              1,
              "#f0f921"
             ]
            ],
            "type": "heatmapgl"
           }
          ],
          "histogram": [
           {
            "marker": {
             "pattern": {
              "fillmode": "overlay",
              "size": 10,
              "solidity": 0.2
             }
            },
            "type": "histogram"
           }
          ],
          "histogram2d": [
           {
            "colorbar": {
             "outlinewidth": 0,
             "ticks": ""
            },
            "colorscale": [
             [
              0,
              "#0d0887"
             ],
             [
              0.1111111111111111,
              "#46039f"
             ],
             [
              0.2222222222222222,
              "#7201a8"
             ],
             [
              0.3333333333333333,
              "#9c179e"
             ],
             [
              0.4444444444444444,
              "#bd3786"
             ],
             [
              0.5555555555555556,
              "#d8576b"
             ],
             [
              0.6666666666666666,
              "#ed7953"
             ],
             [
              0.7777777777777778,
              "#fb9f3a"
             ],
             [
              0.8888888888888888,
              "#fdca26"
             ],
             [
              1,
              "#f0f921"
             ]
            ],
            "type": "histogram2d"
           }
          ],
          "histogram2dcontour": [
           {
            "colorbar": {
             "outlinewidth": 0,
             "ticks": ""
            },
            "colorscale": [
             [
              0,
              "#0d0887"
             ],
             [
              0.1111111111111111,
              "#46039f"
             ],
             [
              0.2222222222222222,
              "#7201a8"
             ],
             [
              0.3333333333333333,
              "#9c179e"
             ],
             [
              0.4444444444444444,
              "#bd3786"
             ],
             [
              0.5555555555555556,
              "#d8576b"
             ],
             [
              0.6666666666666666,
              "#ed7953"
             ],
             [
              0.7777777777777778,
              "#fb9f3a"
             ],
             [
              0.8888888888888888,
              "#fdca26"
             ],
             [
              1,
              "#f0f921"
             ]
            ],
            "type": "histogram2dcontour"
           }
          ],
          "mesh3d": [
           {
            "colorbar": {
             "outlinewidth": 0,
             "ticks": ""
            },
            "type": "mesh3d"
           }
          ],
          "parcoords": [
           {
            "line": {
             "colorbar": {
              "outlinewidth": 0,
              "ticks": ""
             }
            },
            "type": "parcoords"
           }
          ],
          "pie": [
           {
            "automargin": true,
            "type": "pie"
           }
          ],
          "scatter": [
           {
            "marker": {
             "colorbar": {
              "outlinewidth": 0,
              "ticks": ""
             }
            },
            "type": "scatter"
           }
          ],
          "scatter3d": [
           {
            "line": {
             "colorbar": {
              "outlinewidth": 0,
              "ticks": ""
             }
            },
            "marker": {
             "colorbar": {
              "outlinewidth": 0,
              "ticks": ""
             }
            },
            "type": "scatter3d"
           }
          ],
          "scattercarpet": [
           {
            "marker": {
             "colorbar": {
              "outlinewidth": 0,
              "ticks": ""
             }
            },
            "type": "scattercarpet"
           }
          ],
          "scattergeo": [
           {
            "marker": {
             "colorbar": {
              "outlinewidth": 0,
              "ticks": ""
             }
            },
            "type": "scattergeo"
           }
          ],
          "scattergl": [
           {
            "marker": {
             "colorbar": {
              "outlinewidth": 0,
              "ticks": ""
             }
            },
            "type": "scattergl"
           }
          ],
          "scattermapbox": [
           {
            "marker": {
             "colorbar": {
              "outlinewidth": 0,
              "ticks": ""
             }
            },
            "type": "scattermapbox"
           }
          ],
          "scatterpolar": [
           {
            "marker": {
             "colorbar": {
              "outlinewidth": 0,
              "ticks": ""
             }
            },
            "type": "scatterpolar"
           }
          ],
          "scatterpolargl": [
           {
            "marker": {
             "colorbar": {
              "outlinewidth": 0,
              "ticks": ""
             }
            },
            "type": "scatterpolargl"
           }
          ],
          "scatterternary": [
           {
            "marker": {
             "colorbar": {
              "outlinewidth": 0,
              "ticks": ""
             }
            },
            "type": "scatterternary"
           }
          ],
          "surface": [
           {
            "colorbar": {
             "outlinewidth": 0,
             "ticks": ""
            },
            "colorscale": [
             [
              0,
              "#0d0887"
             ],
             [
              0.1111111111111111,
              "#46039f"
             ],
             [
              0.2222222222222222,
              "#7201a8"
             ],
             [
              0.3333333333333333,
              "#9c179e"
             ],
             [
              0.4444444444444444,
              "#bd3786"
             ],
             [
              0.5555555555555556,
              "#d8576b"
             ],
             [
              0.6666666666666666,
              "#ed7953"
             ],
             [
              0.7777777777777778,
              "#fb9f3a"
             ],
             [
              0.8888888888888888,
              "#fdca26"
             ],
             [
              1,
              "#f0f921"
             ]
            ],
            "type": "surface"
           }
          ],
          "table": [
           {
            "cells": {
             "fill": {
              "color": "#EBF0F8"
             },
             "line": {
              "color": "white"
             }
            },
            "header": {
             "fill": {
              "color": "#C8D4E3"
             },
             "line": {
              "color": "white"
             }
            },
            "type": "table"
           }
          ]
         },
         "layout": {
          "annotationdefaults": {
           "arrowcolor": "#2a3f5f",
           "arrowhead": 0,
           "arrowwidth": 1
          },
          "autotypenumbers": "strict",
          "coloraxis": {
           "colorbar": {
            "outlinewidth": 0,
            "ticks": ""
           }
          },
          "colorscale": {
           "diverging": [
            [
             0,
             "#8e0152"
            ],
            [
             0.1,
             "#c51b7d"
            ],
            [
             0.2,
             "#de77ae"
            ],
            [
             0.3,
             "#f1b6da"
            ],
            [
             0.4,
             "#fde0ef"
            ],
            [
             0.5,
             "#f7f7f7"
            ],
            [
             0.6,
             "#e6f5d0"
            ],
            [
             0.7,
             "#b8e186"
            ],
            [
             0.8,
             "#7fbc41"
            ],
            [
             0.9,
             "#4d9221"
            ],
            [
             1,
             "#276419"
            ]
           ],
           "sequential": [
            [
             0,
             "#0d0887"
            ],
            [
             0.1111111111111111,
             "#46039f"
            ],
            [
             0.2222222222222222,
             "#7201a8"
            ],
            [
             0.3333333333333333,
             "#9c179e"
            ],
            [
             0.4444444444444444,
             "#bd3786"
            ],
            [
             0.5555555555555556,
             "#d8576b"
            ],
            [
             0.6666666666666666,
             "#ed7953"
            ],
            [
             0.7777777777777778,
             "#fb9f3a"
            ],
            [
             0.8888888888888888,
             "#fdca26"
            ],
            [
             1,
             "#f0f921"
            ]
           ],
           "sequentialminus": [
            [
             0,
             "#0d0887"
            ],
            [
             0.1111111111111111,
             "#46039f"
            ],
            [
             0.2222222222222222,
             "#7201a8"
            ],
            [
             0.3333333333333333,
             "#9c179e"
            ],
            [
             0.4444444444444444,
             "#bd3786"
            ],
            [
             0.5555555555555556,
             "#d8576b"
            ],
            [
             0.6666666666666666,
             "#ed7953"
            ],
            [
             0.7777777777777778,
             "#fb9f3a"
            ],
            [
             0.8888888888888888,
             "#fdca26"
            ],
            [
             1,
             "#f0f921"
            ]
           ]
          },
          "colorway": [
           "#636efa",
           "#EF553B",
           "#00cc96",
           "#ab63fa",
           "#FFA15A",
           "#19d3f3",
           "#FF6692",
           "#B6E880",
           "#FF97FF",
           "#FECB52"
          ],
          "font": {
           "color": "#2a3f5f"
          },
          "geo": {
           "bgcolor": "white",
           "lakecolor": "white",
           "landcolor": "#E5ECF6",
           "showlakes": true,
           "showland": true,
           "subunitcolor": "white"
          },
          "hoverlabel": {
           "align": "left"
          },
          "hovermode": "closest",
          "mapbox": {
           "style": "light"
          },
          "paper_bgcolor": "white",
          "plot_bgcolor": "#E5ECF6",
          "polar": {
           "angularaxis": {
            "gridcolor": "white",
            "linecolor": "white",
            "ticks": ""
           },
           "bgcolor": "#E5ECF6",
           "radialaxis": {
            "gridcolor": "white",
            "linecolor": "white",
            "ticks": ""
           }
          },
          "scene": {
           "xaxis": {
            "backgroundcolor": "#E5ECF6",
            "gridcolor": "white",
            "gridwidth": 2,
            "linecolor": "white",
            "showbackground": true,
            "ticks": "",
            "zerolinecolor": "white"
           },
           "yaxis": {
            "backgroundcolor": "#E5ECF6",
            "gridcolor": "white",
            "gridwidth": 2,
            "linecolor": "white",
            "showbackground": true,
            "ticks": "",
            "zerolinecolor": "white"
           },
           "zaxis": {
            "backgroundcolor": "#E5ECF6",
            "gridcolor": "white",
            "gridwidth": 2,
            "linecolor": "white",
            "showbackground": true,
            "ticks": "",
            "zerolinecolor": "white"
           }
          },
          "shapedefaults": {
           "line": {
            "color": "#2a3f5f"
           }
          },
          "ternary": {
           "aaxis": {
            "gridcolor": "white",
            "linecolor": "white",
            "ticks": ""
           },
           "baxis": {
            "gridcolor": "white",
            "linecolor": "white",
            "ticks": ""
           },
           "bgcolor": "#E5ECF6",
           "caxis": {
            "gridcolor": "white",
            "linecolor": "white",
            "ticks": ""
           }
          },
          "title": {
           "x": 0.05
          },
          "xaxis": {
           "automargin": true,
           "gridcolor": "white",
           "linecolor": "white",
           "ticks": "",
           "title": {
            "standoff": 15
           },
           "zerolinecolor": "white",
           "zerolinewidth": 2
          },
          "yaxis": {
           "automargin": true,
           "gridcolor": "white",
           "linecolor": "white",
           "ticks": "",
           "title": {
            "standoff": 15
           },
           "zerolinecolor": "white",
           "zerolinewidth": 2
          }
         }
        },
        "title": {
         "text": "Distribution Of Train Item Ranking"
        },
        "xaxis": {
         "title": {
          "text": "Overall"
         }
        },
        "yaxis": {
         "title": {
          "text": "Count"
         }
        }
       }
      },
      "text/html": [
       "<div>                            <div id=\"24a74b03-ec2f-4729-acfd-39ae382cca53\" class=\"plotly-graph-div\" style=\"height:525px; width:100%;\"></div>            <script type=\"text/javascript\">                require([\"plotly\"], function(Plotly) {                    window.PLOTLYENV=window.PLOTLYENV || {};                                    if (document.getElementById(\"24a74b03-ec2f-4729-acfd-39ae382cca53\")) {                    Plotly.newPlot(                        \"24a74b03-ec2f-4729-acfd-39ae382cca53\",                        [{\"marker\":{\"color\":\"#db0000\"},\"text\":[\"66.5 %\",\"14.8 %\",\"8.7 %\",\"4.8 %\",\"5.2 %\"],\"textfont\":{\"color\":\"#000000\"},\"textposition\":\"auto\",\"x\":[5.0,4.0,3.0,2.0,1.0],\"y\":[107620,23909,14029,7721,8474],\"type\":\"bar\"}],                        {\"template\":{\"data\":{\"barpolar\":[{\"marker\":{\"line\":{\"color\":\"#E5ECF6\",\"width\":0.5},\"pattern\":{\"fillmode\":\"overlay\",\"size\":10,\"solidity\":0.2}},\"type\":\"barpolar\"}],\"bar\":[{\"error_x\":{\"color\":\"#2a3f5f\"},\"error_y\":{\"color\":\"#2a3f5f\"},\"marker\":{\"line\":{\"color\":\"#E5ECF6\",\"width\":0.5},\"pattern\":{\"fillmode\":\"overlay\",\"size\":10,\"solidity\":0.2}},\"type\":\"bar\"}],\"carpet\":[{\"aaxis\":{\"endlinecolor\":\"#2a3f5f\",\"gridcolor\":\"white\",\"linecolor\":\"white\",\"minorgridcolor\":\"white\",\"startlinecolor\":\"#2a3f5f\"},\"baxis\":{\"endlinecolor\":\"#2a3f5f\",\"gridcolor\":\"white\",\"linecolor\":\"white\",\"minorgridcolor\":\"white\",\"startlinecolor\":\"#2a3f5f\"},\"type\":\"carpet\"}],\"choropleth\":[{\"colorbar\":{\"outlinewidth\":0,\"ticks\":\"\"},\"type\":\"choropleth\"}],\"contourcarpet\":[{\"colorbar\":{\"outlinewidth\":0,\"ticks\":\"\"},\"type\":\"contourcarpet\"}],\"contour\":[{\"colorbar\":{\"outlinewidth\":0,\"ticks\":\"\"},\"colorscale\":[[0.0,\"#0d0887\"],[0.1111111111111111,\"#46039f\"],[0.2222222222222222,\"#7201a8\"],[0.3333333333333333,\"#9c179e\"],[0.4444444444444444,\"#bd3786\"],[0.5555555555555556,\"#d8576b\"],[0.6666666666666666,\"#ed7953\"],[0.7777777777777778,\"#fb9f3a\"],[0.8888888888888888,\"#fdca26\"],[1.0,\"#f0f921\"]],\"type\":\"contour\"}],\"heatmapgl\":[{\"colorbar\":{\"outlinewidth\":0,\"ticks\":\"\"},\"colorscale\":[[0.0,\"#0d0887\"],[0.1111111111111111,\"#46039f\"],[0.2222222222222222,\"#7201a8\"],[0.3333333333333333,\"#9c179e\"],[0.4444444444444444,\"#bd3786\"],[0.5555555555555556,\"#d8576b\"],[0.6666666666666666,\"#ed7953\"],[0.7777777777777778,\"#fb9f3a\"],[0.8888888888888888,\"#fdca26\"],[1.0,\"#f0f921\"]],\"type\":\"heatmapgl\"}],\"heatmap\":[{\"colorbar\":{\"outlinewidth\":0,\"ticks\":\"\"},\"colorscale\":[[0.0,\"#0d0887\"],[0.1111111111111111,\"#46039f\"],[0.2222222222222222,\"#7201a8\"],[0.3333333333333333,\"#9c179e\"],[0.4444444444444444,\"#bd3786\"],[0.5555555555555556,\"#d8576b\"],[0.6666666666666666,\"#ed7953\"],[0.7777777777777778,\"#fb9f3a\"],[0.8888888888888888,\"#fdca26\"],[1.0,\"#f0f921\"]],\"type\":\"heatmap\"}],\"histogram2dcontour\":[{\"colorbar\":{\"outlinewidth\":0,\"ticks\":\"\"},\"colorscale\":[[0.0,\"#0d0887\"],[0.1111111111111111,\"#46039f\"],[0.2222222222222222,\"#7201a8\"],[0.3333333333333333,\"#9c179e\"],[0.4444444444444444,\"#bd3786\"],[0.5555555555555556,\"#d8576b\"],[0.6666666666666666,\"#ed7953\"],[0.7777777777777778,\"#fb9f3a\"],[0.8888888888888888,\"#fdca26\"],[1.0,\"#f0f921\"]],\"type\":\"histogram2dcontour\"}],\"histogram2d\":[{\"colorbar\":{\"outlinewidth\":0,\"ticks\":\"\"},\"colorscale\":[[0.0,\"#0d0887\"],[0.1111111111111111,\"#46039f\"],[0.2222222222222222,\"#7201a8\"],[0.3333333333333333,\"#9c179e\"],[0.4444444444444444,\"#bd3786\"],[0.5555555555555556,\"#d8576b\"],[0.6666666666666666,\"#ed7953\"],[0.7777777777777778,\"#fb9f3a\"],[0.8888888888888888,\"#fdca26\"],[1.0,\"#f0f921\"]],\"type\":\"histogram2d\"}],\"histogram\":[{\"marker\":{\"pattern\":{\"fillmode\":\"overlay\",\"size\":10,\"solidity\":0.2}},\"type\":\"histogram\"}],\"mesh3d\":[{\"colorbar\":{\"outlinewidth\":0,\"ticks\":\"\"},\"type\":\"mesh3d\"}],\"parcoords\":[{\"line\":{\"colorbar\":{\"outlinewidth\":0,\"ticks\":\"\"}},\"type\":\"parcoords\"}],\"pie\":[{\"automargin\":true,\"type\":\"pie\"}],\"scatter3d\":[{\"line\":{\"colorbar\":{\"outlinewidth\":0,\"ticks\":\"\"}},\"marker\":{\"colorbar\":{\"outlinewidth\":0,\"ticks\":\"\"}},\"type\":\"scatter3d\"}],\"scattercarpet\":[{\"marker\":{\"colorbar\":{\"outlinewidth\":0,\"ticks\":\"\"}},\"type\":\"scattercarpet\"}],\"scattergeo\":[{\"marker\":{\"colorbar\":{\"outlinewidth\":0,\"ticks\":\"\"}},\"type\":\"scattergeo\"}],\"scattergl\":[{\"marker\":{\"colorbar\":{\"outlinewidth\":0,\"ticks\":\"\"}},\"type\":\"scattergl\"}],\"scattermapbox\":[{\"marker\":{\"colorbar\":{\"outlinewidth\":0,\"ticks\":\"\"}},\"type\":\"scattermapbox\"}],\"scatterpolargl\":[{\"marker\":{\"colorbar\":{\"outlinewidth\":0,\"ticks\":\"\"}},\"type\":\"scatterpolargl\"}],\"scatterpolar\":[{\"marker\":{\"colorbar\":{\"outlinewidth\":0,\"ticks\":\"\"}},\"type\":\"scatterpolar\"}],\"scatter\":[{\"marker\":{\"colorbar\":{\"outlinewidth\":0,\"ticks\":\"\"}},\"type\":\"scatter\"}],\"scatterternary\":[{\"marker\":{\"colorbar\":{\"outlinewidth\":0,\"ticks\":\"\"}},\"type\":\"scatterternary\"}],\"surface\":[{\"colorbar\":{\"outlinewidth\":0,\"ticks\":\"\"},\"colorscale\":[[0.0,\"#0d0887\"],[0.1111111111111111,\"#46039f\"],[0.2222222222222222,\"#7201a8\"],[0.3333333333333333,\"#9c179e\"],[0.4444444444444444,\"#bd3786\"],[0.5555555555555556,\"#d8576b\"],[0.6666666666666666,\"#ed7953\"],[0.7777777777777778,\"#fb9f3a\"],[0.8888888888888888,\"#fdca26\"],[1.0,\"#f0f921\"]],\"type\":\"surface\"}],\"table\":[{\"cells\":{\"fill\":{\"color\":\"#EBF0F8\"},\"line\":{\"color\":\"white\"}},\"header\":{\"fill\":{\"color\":\"#C8D4E3\"},\"line\":{\"color\":\"white\"}},\"type\":\"table\"}]},\"layout\":{\"annotationdefaults\":{\"arrowcolor\":\"#2a3f5f\",\"arrowhead\":0,\"arrowwidth\":1},\"autotypenumbers\":\"strict\",\"coloraxis\":{\"colorbar\":{\"outlinewidth\":0,\"ticks\":\"\"}},\"colorscale\":{\"diverging\":[[0,\"#8e0152\"],[0.1,\"#c51b7d\"],[0.2,\"#de77ae\"],[0.3,\"#f1b6da\"],[0.4,\"#fde0ef\"],[0.5,\"#f7f7f7\"],[0.6,\"#e6f5d0\"],[0.7,\"#b8e186\"],[0.8,\"#7fbc41\"],[0.9,\"#4d9221\"],[1,\"#276419\"]],\"sequential\":[[0.0,\"#0d0887\"],[0.1111111111111111,\"#46039f\"],[0.2222222222222222,\"#7201a8\"],[0.3333333333333333,\"#9c179e\"],[0.4444444444444444,\"#bd3786\"],[0.5555555555555556,\"#d8576b\"],[0.6666666666666666,\"#ed7953\"],[0.7777777777777778,\"#fb9f3a\"],[0.8888888888888888,\"#fdca26\"],[1.0,\"#f0f921\"]],\"sequentialminus\":[[0.0,\"#0d0887\"],[0.1111111111111111,\"#46039f\"],[0.2222222222222222,\"#7201a8\"],[0.3333333333333333,\"#9c179e\"],[0.4444444444444444,\"#bd3786\"],[0.5555555555555556,\"#d8576b\"],[0.6666666666666666,\"#ed7953\"],[0.7777777777777778,\"#fb9f3a\"],[0.8888888888888888,\"#fdca26\"],[1.0,\"#f0f921\"]]},\"colorway\":[\"#636efa\",\"#EF553B\",\"#00cc96\",\"#ab63fa\",\"#FFA15A\",\"#19d3f3\",\"#FF6692\",\"#B6E880\",\"#FF97FF\",\"#FECB52\"],\"font\":{\"color\":\"#2a3f5f\"},\"geo\":{\"bgcolor\":\"white\",\"lakecolor\":\"white\",\"landcolor\":\"#E5ECF6\",\"showlakes\":true,\"showland\":true,\"subunitcolor\":\"white\"},\"hoverlabel\":{\"align\":\"left\"},\"hovermode\":\"closest\",\"mapbox\":{\"style\":\"light\"},\"paper_bgcolor\":\"white\",\"plot_bgcolor\":\"#E5ECF6\",\"polar\":{\"angularaxis\":{\"gridcolor\":\"white\",\"linecolor\":\"white\",\"ticks\":\"\"},\"bgcolor\":\"#E5ECF6\",\"radialaxis\":{\"gridcolor\":\"white\",\"linecolor\":\"white\",\"ticks\":\"\"}},\"scene\":{\"xaxis\":{\"backgroundcolor\":\"#E5ECF6\",\"gridcolor\":\"white\",\"gridwidth\":2,\"linecolor\":\"white\",\"showbackground\":true,\"ticks\":\"\",\"zerolinecolor\":\"white\"},\"yaxis\":{\"backgroundcolor\":\"#E5ECF6\",\"gridcolor\":\"white\",\"gridwidth\":2,\"linecolor\":\"white\",\"showbackground\":true,\"ticks\":\"\",\"zerolinecolor\":\"white\"},\"zaxis\":{\"backgroundcolor\":\"#E5ECF6\",\"gridcolor\":\"white\",\"gridwidth\":2,\"linecolor\":\"white\",\"showbackground\":true,\"ticks\":\"\",\"zerolinecolor\":\"white\"}},\"shapedefaults\":{\"line\":{\"color\":\"#2a3f5f\"}},\"ternary\":{\"aaxis\":{\"gridcolor\":\"white\",\"linecolor\":\"white\",\"ticks\":\"\"},\"baxis\":{\"gridcolor\":\"white\",\"linecolor\":\"white\",\"ticks\":\"\"},\"bgcolor\":\"#E5ECF6\",\"caxis\":{\"gridcolor\":\"white\",\"linecolor\":\"white\",\"ticks\":\"\"}},\"title\":{\"x\":0.05},\"xaxis\":{\"automargin\":true,\"gridcolor\":\"white\",\"linecolor\":\"white\",\"ticks\":\"\",\"title\":{\"standoff\":15},\"zerolinecolor\":\"white\",\"zerolinewidth\":2},\"yaxis\":{\"automargin\":true,\"gridcolor\":\"white\",\"linecolor\":\"white\",\"ticks\":\"\",\"title\":{\"standoff\":15},\"zerolinecolor\":\"white\",\"zerolinewidth\":2}}},\"title\":{\"text\":\"Distribution Of Train Item Ranking\"},\"xaxis\":{\"title\":{\"text\":\"Overall\"}},\"yaxis\":{\"title\":{\"text\":\"Count\"}}},                        {\"responsive\": true}                    ).then(function(){\n",
       "                            \n",
       "var gd = document.getElementById('24a74b03-ec2f-4729-acfd-39ae382cca53');\n",
       "var x = new MutationObserver(function (mutations, observer) {{\n",
       "        var display = window.getComputedStyle(gd).display;\n",
       "        if (!display || display === 'none') {{\n",
       "            console.log([gd, 'removed!']);\n",
       "            Plotly.purge(gd);\n",
       "            observer.disconnect();\n",
       "        }}\n",
       "}});\n",
       "\n",
       "// Listen for the removal of the full notebook cells\n",
       "var notebookContainer = gd.closest('#notebook-container');\n",
       "if (notebookContainer) {{\n",
       "    x.observe(notebookContainer, {childList: true});\n",
       "}}\n",
       "\n",
       "// Listen for the clearing of the current output cell\n",
       "var outputEl = gd.closest('.output');\n",
       "if (outputEl) {{\n",
       "    x.observe(outputEl, {childList: true});\n",
       "}}\n",
       "\n",
       "                        })                };                });            </script>        </div>"
      ]
     },
     "metadata": {},
     "output_type": "display_data"
    }
   ],
   "source": [
    "# Get data\n",
    "data = train['overall'].value_counts().sort_index(ascending=False)\n",
    "\n",
    "# Create trace\n",
    "trace = go.Bar(x = data.index,\n",
    "               text = ['{:.1f} %'.format(val) for val in (data.values / train.shape[0] * 100)],\n",
    "               textposition = 'auto',\n",
    "               textfont = dict(color = '#000000'),\n",
    "               y = data.values,\n",
    "               marker = dict(color = '#db0000'))\n",
    "\n",
    "# Create layout\n",
    "layout = dict(title = 'Distribution Of Train Item Ranking'.format(train.shape[0]),\n",
    "              xaxis = dict(title = 'Overall'),\n",
    "              yaxis = dict(title = 'Count'))\n",
    "              \n",
    "# Create plot\n",
    "fig = go.Figure(data=[trace], layout=layout)\n",
    "iplot(fig)"
   ]
  },
  {
   "cell_type": "markdown",
   "metadata": {},
   "source": [
    "More than 80% of the reviews of the training set are above 4 in the overall score"
   ]
  },
  {
   "cell_type": "code",
   "execution_count": 56,
   "metadata": {},
   "outputs": [
    {
     "name": "stdout",
     "output_type": "stream",
     "text": [
      "Number of missing values across columns: \n",
      " userID             0\n",
      "overall            0\n",
      "asin               0\n",
      "vote          145992\n",
      "reviewText         2\n",
      "summary            1\n",
      "style          29641\n",
      "image         157207\n",
      "dtype: int64\n"
     ]
    }
   ],
   "source": [
    "# Check missing values of the train set.\n",
    "print('Number of missing values across columns: \\n',train.isnull().sum())"
   ]
  },
  {
   "cell_type": "markdown",
   "metadata": {},
   "source": [
    "According to this a for the sake of the model fitting the variables \"vote\", \"reviewText\", \"summary\", \"style\" and \"image\" should be removed.\n",
    "\n"
   ]
  },
  {
   "cell_type": "code",
   "execution_count": 57,
   "metadata": {},
   "outputs": [],
   "source": [
    "# Selecting Columns.\n",
    "f_col =  ['userID', 'asin','overall']\n",
    "train = train[f_col]"
   ]
  },
  {
   "cell_type": "code",
   "execution_count": 58,
   "metadata": {},
   "outputs": [
    {
     "data": {
      "text/html": [
       "<div>\n",
       "<style scoped>\n",
       "    .dataframe tbody tr th:only-of-type {\n",
       "        vertical-align: middle;\n",
       "    }\n",
       "\n",
       "    .dataframe tbody tr th {\n",
       "        vertical-align: top;\n",
       "    }\n",
       "\n",
       "    .dataframe thead th {\n",
       "        text-align: right;\n",
       "    }\n",
       "</style>\n",
       "<table border=\"1\" class=\"dataframe\">\n",
       "  <thead>\n",
       "    <tr style=\"text-align: right;\">\n",
       "      <th></th>\n",
       "      <th>userID</th>\n",
       "      <th>asin</th>\n",
       "      <th>overall</th>\n",
       "    </tr>\n",
       "  </thead>\n",
       "  <tbody>\n",
       "    <tr>\n",
       "      <th>0</th>\n",
       "      <td>13527</td>\n",
       "      <td>B0002565TI</td>\n",
       "      <td>5.0</td>\n",
       "    </tr>\n",
       "    <tr>\n",
       "      <th>1</th>\n",
       "      <td>14608</td>\n",
       "      <td>B0002H3ZLM</td>\n",
       "      <td>2.0</td>\n",
       "    </tr>\n",
       "    <tr>\n",
       "      <th>2</th>\n",
       "      <td>15536</td>\n",
       "      <td>B0009YD8OC</td>\n",
       "      <td>5.0</td>\n",
       "    </tr>\n",
       "    <tr>\n",
       "      <th>3</th>\n",
       "      <td>12868</td>\n",
       "      <td>B001VPA9OK</td>\n",
       "      <td>5.0</td>\n",
       "    </tr>\n",
       "    <tr>\n",
       "      <th>4</th>\n",
       "      <td>181</td>\n",
       "      <td>B000K67UF2</td>\n",
       "      <td>5.0</td>\n",
       "    </tr>\n",
       "  </tbody>\n",
       "</table>\n",
       "</div>"
      ],
      "text/plain": [
       "   userID        asin  overall\n",
       "0   13527  B0002565TI      5.0\n",
       "1   14608  B0002H3ZLM      2.0\n",
       "2   15536  B0009YD8OC      5.0\n",
       "3   12868  B001VPA9OK      5.0\n",
       "4     181  B000K67UF2      5.0"
      ]
     },
     "execution_count": 58,
     "metadata": {},
     "output_type": "execute_result"
    }
   ],
   "source": [
    "# Checking train set again.\n",
    "train.head()"
   ]
  },
  {
   "cell_type": "markdown",
   "metadata": {},
   "source": [
    "### Test Dataset."
   ]
  },
  {
   "cell_type": "code",
   "execution_count": 59,
   "metadata": {},
   "outputs": [
    {
     "data": {
      "text/html": [
       "<div>\n",
       "<style scoped>\n",
       "    .dataframe tbody tr th:only-of-type {\n",
       "        vertical-align: middle;\n",
       "    }\n",
       "\n",
       "    .dataframe tbody tr th {\n",
       "        vertical-align: top;\n",
       "    }\n",
       "\n",
       "    .dataframe thead th {\n",
       "        text-align: right;\n",
       "    }\n",
       "</style>\n",
       "<table border=\"1\" class=\"dataframe\">\n",
       "  <thead>\n",
       "    <tr style=\"text-align: right;\">\n",
       "      <th></th>\n",
       "      <th>ID</th>\n",
       "      <th>userID</th>\n",
       "      <th>asin</th>\n",
       "    </tr>\n",
       "  </thead>\n",
       "  <tbody>\n",
       "    <tr>\n",
       "      <th>0</th>\n",
       "      <td>21069B00BFK2B24</td>\n",
       "      <td>21069</td>\n",
       "      <td>B00BFK2B24</td>\n",
       "    </tr>\n",
       "    <tr>\n",
       "      <th>1</th>\n",
       "      <td>3506B00ZK0Y7R2</td>\n",
       "      <td>3506</td>\n",
       "      <td>B00ZK0Y7R2</td>\n",
       "    </tr>\n",
       "    <tr>\n",
       "      <th>2</th>\n",
       "      <td>21907B0002AQPA2</td>\n",
       "      <td>21907</td>\n",
       "      <td>B0002AQPA2</td>\n",
       "    </tr>\n",
       "    <tr>\n",
       "      <th>3</th>\n",
       "      <td>14092B0002DHXX2</td>\n",
       "      <td>14092</td>\n",
       "      <td>B0002DHXX2</td>\n",
       "    </tr>\n",
       "    <tr>\n",
       "      <th>4</th>\n",
       "      <td>3085B0006VB3SQ</td>\n",
       "      <td>3085</td>\n",
       "      <td>B0006VB3SQ</td>\n",
       "    </tr>\n",
       "  </tbody>\n",
       "</table>\n",
       "</div>"
      ],
      "text/plain": [
       "                ID  userID        asin\n",
       "0  21069B00BFK2B24   21069  B00BFK2B24\n",
       "1   3506B00ZK0Y7R2    3506  B00ZK0Y7R2\n",
       "2  21907B0002AQPA2   21907  B0002AQPA2\n",
       "3  14092B0002DHXX2   14092  B0002DHXX2\n",
       "4   3085B0006VB3SQ    3085  B0006VB3SQ"
      ]
     },
     "execution_count": 59,
     "metadata": {},
     "output_type": "execute_result"
    }
   ],
   "source": [
    "# Checking the test dataset how it looks like\n",
    "test.head()"
   ]
  },
  {
   "cell_type": "code",
   "execution_count": 60,
   "metadata": {},
   "outputs": [
    {
     "data": {
      "text/plain": [
       "(76043, 3)"
      ]
     },
     "execution_count": 60,
     "metadata": {},
     "output_type": "execute_result"
    }
   ],
   "source": [
    "# Check the shape of the test dataset to see its dimensions.\n",
    "test.shape"
   ]
  },
  {
   "cell_type": "markdown",
   "metadata": {},
   "source": [
    "Test set is smaller that train set"
   ]
  },
  {
   "cell_type": "code",
   "execution_count": 61,
   "metadata": {},
   "outputs": [
    {
     "data": {
      "text/plain": [
       "Index(['ID', 'userID', 'asin'], dtype='object')"
      ]
     },
     "execution_count": 61,
     "metadata": {},
     "output_type": "execute_result"
    }
   ],
   "source": [
    "# Check test column names.\n",
    "test.columns"
   ]
  },
  {
   "cell_type": "code",
   "execution_count": 62,
   "metadata": {},
   "outputs": [
    {
     "name": "stdout",
     "output_type": "stream",
     "text": [
      "Number of missing values across columns: \n",
      " ID        0\n",
      "userID    0\n",
      "asin      0\n",
      "dtype: int64\n"
     ]
    }
   ],
   "source": [
    "# Check missing values of the test set\n",
    "print('Number of missing values across columns: \\n',test.isnull().sum())"
   ]
  },
  {
   "cell_type": "code",
   "execution_count": 18,
   "metadata": {},
   "outputs": [
    {
     "name": "stdout",
     "output_type": "stream",
     "text": [
      "Total data \n",
      "####################################################################################################\n",
      "\n",
      "Total no of ratings : 76043\n",
      "Total No of Users   : 22181\n",
      "Total No of products  : 2310\n"
     ]
    }
   ],
   "source": [
    "# Check unique users, overall scores and items of the test set\n",
    "print(\"Total data \")\n",
    "print(\"#\"*100)\n",
    "print(\"\\nTotal No of ratings :\",test.shape[0])\n",
    "print(\"Total No of Users   :\", len(np.unique(test.userID)))\n",
    "print(\"Total No of products  :\", len(np.unique(test.asin)))"
   ]
  },
  {
   "cell_type": "markdown",
   "metadata": {},
   "source": [
    "## Benchmarking The Algorithmns"
   ]
  },
  {
   "cell_type": "code",
   "execution_count": 19,
   "metadata": {},
   "outputs": [],
   "source": [
    "# Set the reader with the rating min and max\n",
    "reader = Reader(rating_scale=(1, 5))\n",
    "\n",
    "# Surprise train and test set\n",
    "df_train = Dataset.load_from_df(train, reader)\n",
    "df_test = list(test.itertuples(index=False, name=None))"
   ]
  },
  {
   "cell_type": "markdown",
   "metadata": {},
   "source": [
    "Cross Validation of the NMF(), SlopeOne(), SVDpp(), SVD(), KNNBaseline(), KNNBasic(), KNNWithMeans(), KNNWithZScore(), BaselineOnly(), CoClustering() algorithms"
   ]
  },
  {
   "cell_type": "markdown",
   "metadata": {},
   "source": [
    "Code Reference: https://gist.github.com/susanli2016/e0cdcf1bca69a2b144fd8c04f30b522f"
   ]
  },
  {
   "cell_type": "code",
   "execution_count": 20,
   "metadata": {},
   "outputs": [
    {
     "name": "stdout",
     "output_type": "stream",
     "text": [
      "Attempting:  [<surprise.prediction_algorithms.matrix_factorization.NMF object at 0x7fb8ec9a5550>, <surprise.prediction_algorithms.slope_one.SlopeOne object at 0x7fb8ec9a5670>, <surprise.prediction_algorithms.matrix_factorization.SVDpp object at 0x7fb8ec9a5610>, <surprise.prediction_algorithms.matrix_factorization.SVD object at 0x7fb8ec9a5640>, <surprise.prediction_algorithms.knns.KNNBaseline object at 0x7fb8ec9a56a0>, <surprise.prediction_algorithms.knns.KNNBasic object at 0x7fb8ec9a5700>, <surprise.prediction_algorithms.knns.KNNWithMeans object at 0x7fb8ec9a5760>, <surprise.prediction_algorithms.knns.KNNWithZScore object at 0x7fb8ec9a57c0>, <surprise.prediction_algorithms.baseline_only.BaselineOnly object at 0x7fb8ec9a5820>, <surprise.prediction_algorithms.co_clustering.CoClustering object at 0x7fb8ec9a5880>] \n",
      "\n",
      "\n",
      "\n",
      "Starting:  <surprise.prediction_algorithms.matrix_factorization.NMF object at 0x7fb8ec9a5550>\n",
      "Done:  <surprise.prediction_algorithms.matrix_factorization.NMF object at 0x7fb8ec9a5550> \n",
      "\n",
      "\n",
      "Starting:  <surprise.prediction_algorithms.slope_one.SlopeOne object at 0x7fb8ec9a5670>\n",
      "Done:  <surprise.prediction_algorithms.slope_one.SlopeOne object at 0x7fb8ec9a5670> \n",
      "\n",
      "\n",
      "Starting:  <surprise.prediction_algorithms.matrix_factorization.SVDpp object at 0x7fb8ec9a5610>\n",
      "Done:  <surprise.prediction_algorithms.matrix_factorization.SVDpp object at 0x7fb8ec9a5610> \n",
      "\n",
      "\n",
      "Starting:  <surprise.prediction_algorithms.matrix_factorization.SVD object at 0x7fb8ec9a5640>\n",
      "Done:  <surprise.prediction_algorithms.matrix_factorization.SVD object at 0x7fb8ec9a5640> \n",
      "\n",
      "\n",
      "Starting:  <surprise.prediction_algorithms.knns.KNNBaseline object at 0x7fb8ec9a56a0>\n",
      "Estimating biases using als...\n",
      "Computing the msd similarity matrix...\n",
      "Done computing similarity matrix.\n",
      "Estimating biases using als...\n",
      "Computing the msd similarity matrix...\n",
      "Done computing similarity matrix.\n",
      "Estimating biases using als...\n",
      "Computing the msd similarity matrix...\n",
      "Done computing similarity matrix.\n",
      "Estimating biases using als...\n",
      "Computing the msd similarity matrix...\n",
      "Done computing similarity matrix.\n",
      "Estimating biases using als...\n",
      "Computing the msd similarity matrix...\n",
      "Done computing similarity matrix.\n",
      "Done:  <surprise.prediction_algorithms.knns.KNNBaseline object at 0x7fb8ec9a56a0> \n",
      "\n",
      "\n",
      "Starting:  <surprise.prediction_algorithms.knns.KNNBasic object at 0x7fb8ec9a5700>\n",
      "Computing the msd similarity matrix...\n",
      "Done computing similarity matrix.\n",
      "Computing the msd similarity matrix...\n",
      "Done computing similarity matrix.\n",
      "Computing the msd similarity matrix...\n",
      "Done computing similarity matrix.\n",
      "Computing the msd similarity matrix...\n",
      "Done computing similarity matrix.\n",
      "Computing the msd similarity matrix...\n",
      "Done computing similarity matrix.\n",
      "Done:  <surprise.prediction_algorithms.knns.KNNBasic object at 0x7fb8ec9a5700> \n",
      "\n",
      "\n",
      "Starting:  <surprise.prediction_algorithms.knns.KNNWithMeans object at 0x7fb8ec9a5760>\n",
      "Computing the msd similarity matrix...\n",
      "Done computing similarity matrix.\n",
      "Computing the msd similarity matrix...\n",
      "Done computing similarity matrix.\n",
      "Computing the msd similarity matrix...\n",
      "Done computing similarity matrix.\n",
      "Computing the msd similarity matrix...\n",
      "Done computing similarity matrix.\n",
      "Computing the msd similarity matrix...\n",
      "Done computing similarity matrix.\n",
      "Done:  <surprise.prediction_algorithms.knns.KNNWithMeans object at 0x7fb8ec9a5760> \n",
      "\n",
      "\n",
      "Starting:  <surprise.prediction_algorithms.knns.KNNWithZScore object at 0x7fb8ec9a57c0>\n",
      "Computing the msd similarity matrix...\n",
      "Done computing similarity matrix.\n",
      "Computing the msd similarity matrix...\n",
      "Done computing similarity matrix.\n",
      "Computing the msd similarity matrix...\n",
      "Done computing similarity matrix.\n",
      "Computing the msd similarity matrix...\n",
      "Done computing similarity matrix.\n",
      "Computing the msd similarity matrix...\n",
      "Done computing similarity matrix.\n",
      "Done:  <surprise.prediction_algorithms.knns.KNNWithZScore object at 0x7fb8ec9a57c0> \n",
      "\n",
      "\n",
      "Starting:  <surprise.prediction_algorithms.baseline_only.BaselineOnly object at 0x7fb8ec9a5820>\n",
      "Estimating biases using als...\n",
      "Estimating biases using als...\n",
      "Estimating biases using als...\n",
      "Estimating biases using als...\n",
      "Estimating biases using als...\n",
      "Done:  <surprise.prediction_algorithms.baseline_only.BaselineOnly object at 0x7fb8ec9a5820> \n",
      "\n",
      "\n",
      "Starting:  <surprise.prediction_algorithms.co_clustering.CoClustering object at 0x7fb8ec9a5880>\n",
      "Done:  <surprise.prediction_algorithms.co_clustering.CoClustering object at 0x7fb8ec9a5880> \n",
      "\n",
      "\n",
      "\n",
      "\tDONE\n",
      "\n"
     ]
    }
   ],
   "source": [
    "benchmark = []\n",
    "\n",
    "# Iterate over all algorithms\n",
    "\n",
    "algorithms = [NMF(), SlopeOne(), SVDpp(), SVD(), KNNBaseline(), KNNBasic(), KNNWithMeans(), KNNWithZScore(), BaselineOnly(), CoClustering()]\n",
    "\n",
    "print (\"Attempting: \", str(algorithms), '\\n\\n\\n')\n",
    "\n",
    "for algorithm in algorithms:\n",
    "    print(\"Starting: \" ,str(algorithm))\n",
    "    results2 = cross_validate(algorithm, df_train, measures=['RMSE'], cv=5, verbose=False)  # Perform cross validation    \n",
    "    tmp = pd.DataFrame.from_dict(results2).mean(axis=0) # Get results & append algorithm name\n",
    "    tmp = tmp.append(pd.Series([str(algorithm).split(' ')[0].split('.')[-1]], index=['Algorithm']))\n",
    "    benchmark.append(tmp)\n",
    "    print(\"Done: \" ,str(algorithm), \"\\n\\n\")\n",
    "\n",
    "print ('\\n\\tDONE\\n')"
   ]
  },
  {
   "cell_type": "code",
   "execution_count": 21,
   "metadata": {},
   "outputs": [
    {
     "data": {
      "text/html": [
       "<div>\n",
       "<style scoped>\n",
       "    .dataframe tbody tr th:only-of-type {\n",
       "        vertical-align: middle;\n",
       "    }\n",
       "\n",
       "    .dataframe tbody tr th {\n",
       "        vertical-align: top;\n",
       "    }\n",
       "\n",
       "    .dataframe thead th {\n",
       "        text-align: right;\n",
       "    }\n",
       "</style>\n",
       "<table border=\"1\" class=\"dataframe\">\n",
       "  <thead>\n",
       "    <tr style=\"text-align: right;\">\n",
       "      <th></th>\n",
       "      <th>test_rmse</th>\n",
       "      <th>fit_time</th>\n",
       "      <th>test_time</th>\n",
       "    </tr>\n",
       "    <tr>\n",
       "      <th>Algorithm</th>\n",
       "      <th></th>\n",
       "      <th></th>\n",
       "      <th></th>\n",
       "    </tr>\n",
       "  </thead>\n",
       "  <tbody>\n",
       "    <tr>\n",
       "      <th>SVDpp</th>\n",
       "      <td>1.074211</td>\n",
       "      <td>16.111819</td>\n",
       "      <td>0.420801</td>\n",
       "    </tr>\n",
       "    <tr>\n",
       "      <th>SVD</th>\n",
       "      <td>1.077433</td>\n",
       "      <td>6.263074</td>\n",
       "      <td>0.181698</td>\n",
       "    </tr>\n",
       "    <tr>\n",
       "      <th>BaselineOnly</th>\n",
       "      <td>1.081935</td>\n",
       "      <td>0.244260</td>\n",
       "      <td>0.168112</td>\n",
       "    </tr>\n",
       "    <tr>\n",
       "      <th>KNNBaseline</th>\n",
       "      <td>1.162602</td>\n",
       "      <td>29.033620</td>\n",
       "      <td>3.689657</td>\n",
       "    </tr>\n",
       "    <tr>\n",
       "      <th>CoClustering</th>\n",
       "      <td>1.164438</td>\n",
       "      <td>2.732519</td>\n",
       "      <td>0.175031</td>\n",
       "    </tr>\n",
       "    <tr>\n",
       "      <th>KNNWithMeans</th>\n",
       "      <td>1.187351</td>\n",
       "      <td>29.623568</td>\n",
       "      <td>3.709912</td>\n",
       "    </tr>\n",
       "    <tr>\n",
       "      <th>KNNWithZScore</th>\n",
       "      <td>1.196412</td>\n",
       "      <td>30.637548</td>\n",
       "      <td>3.964926</td>\n",
       "    </tr>\n",
       "    <tr>\n",
       "      <th>KNNBasic</th>\n",
       "      <td>1.211350</td>\n",
       "      <td>29.333330</td>\n",
       "      <td>3.526045</td>\n",
       "    </tr>\n",
       "    <tr>\n",
       "      <th>NMF</th>\n",
       "      <td>1.225557</td>\n",
       "      <td>6.739717</td>\n",
       "      <td>0.140204</td>\n",
       "    </tr>\n",
       "    <tr>\n",
       "      <th>SlopeOne</th>\n",
       "      <td>1.259075</td>\n",
       "      <td>0.352027</td>\n",
       "      <td>0.288280</td>\n",
       "    </tr>\n",
       "  </tbody>\n",
       "</table>\n",
       "</div>"
      ],
      "text/plain": [
       "               test_rmse   fit_time  test_time\n",
       "Algorithm                                     \n",
       "SVDpp           1.074211  16.111819   0.420801\n",
       "SVD             1.077433   6.263074   0.181698\n",
       "BaselineOnly    1.081935   0.244260   0.168112\n",
       "KNNBaseline     1.162602  29.033620   3.689657\n",
       "CoClustering    1.164438   2.732519   0.175031\n",
       "KNNWithMeans    1.187351  29.623568   3.709912\n",
       "KNNWithZScore   1.196412  30.637548   3.964926\n",
       "KNNBasic        1.211350  29.333330   3.526045\n",
       "NMF             1.225557   6.739717   0.140204\n",
       "SlopeOne        1.259075   0.352027   0.288280"
      ]
     },
     "execution_count": 21,
     "metadata": {},
     "output_type": "execute_result"
    }
   ],
   "source": [
    "# Display the results\n",
    "surprise_results = pd.DataFrame(benchmark).set_index('Algorithm').sort_values('test_rmse')\n",
    "surprise_results"
   ]
  },
  {
   "cell_type": "markdown",
   "metadata": {},
   "source": [
    "The algorithms with the lowest RMSE where SVD++, SVD and BaselineOnly. I will be using those algorithms to create my predictions."
   ]
  },
  {
   "cell_type": "markdown",
   "metadata": {},
   "source": [
    "## Model Evaluation"
   ]
  },
  {
   "cell_type": "markdown",
   "metadata": {},
   "source": [
    "To perform the model evaluation I wont use the test dataset already provided because during the evaluation process is done based on the variable \"r_ui\" after the prediction process. This variable is a mix of integers and strings data types."
   ]
  },
  {
   "cell_type": "markdown",
   "metadata": {},
   "source": [
    "Beacouse of this I will do the split process with the train data set already provided."
   ]
  },
  {
   "cell_type": "code",
   "execution_count": 63,
   "metadata": {},
   "outputs": [],
   "source": [
    "# Selecting Columns\n",
    "d_col =  ['userID', 'asin','overall']\n",
    "data = train[d_col]"
   ]
  },
  {
   "cell_type": "code",
   "execution_count": 64,
   "metadata": {},
   "outputs": [],
   "source": [
    "# Create our train and test set for our model predictions and Evaluations.\n",
    "\n",
    "# Reader rating scale setup 1 for lowest and 5 for highest\n",
    "datas = Reader(rating_scale=(1, 5))\n",
    "data_sup=Dataset.load_from_df(data,datas)\n",
    "\n",
    "# Split the data in train 80% and test 20%\n",
    "train_df,test_df=train_test_split(data,test_size=0.2,random_state=613)\n",
    "train_df.reset_index(drop=True,inplace=True)\n",
    "test_df.reset_index(drop=True,inplace=True)\n",
    "datas = Reader(rating_scale=(1, 5))\n",
    "train2=Dataset.load_from_df(train_df,datas).build_full_trainset()\n",
    "test2=list(test_df.itertuples(index=False,name=None))"
   ]
  },
  {
   "cell_type": "markdown",
   "metadata": {},
   "source": [
    "Now lets apply the train2 and test2 to our predictions"
   ]
  },
  {
   "cell_type": "markdown",
   "metadata": {},
   "source": [
    "### SVD++"
   ]
  },
  {
   "cell_type": "code",
   "execution_count": 65,
   "metadata": {},
   "outputs": [],
   "source": [
    "# SVD++ Model Prediction\n",
    "svdpp = SVDpp()\n",
    "svdpp.fit(train2)\n",
    "prediction_svdpp=svdpp.test(test2)"
   ]
  },
  {
   "cell_type": "markdown",
   "metadata": {},
   "source": [
    "### SVD"
   ]
  },
  {
   "cell_type": "code",
   "execution_count": 66,
   "metadata": {},
   "outputs": [],
   "source": [
    "# SVD Model Prediction\n",
    "svd = SVD()\n",
    "svd.fit(train2)\n",
    "prediction_svd=svd.test(test2)"
   ]
  },
  {
   "cell_type": "markdown",
   "metadata": {},
   "source": [
    "### BaselineOnly"
   ]
  },
  {
   "cell_type": "code",
   "execution_count": 67,
   "metadata": {},
   "outputs": [
    {
     "name": "stdout",
     "output_type": "stream",
     "text": [
      "Estimating biases using als...\n"
     ]
    }
   ],
   "source": [
    "# BaselineOnly Model Prediction\n",
    "baselineonly = BaselineOnly()\n",
    "baselineonly.fit(train2)\n",
    "prediction_baselineonly=baselineonly.test(test2)"
   ]
  },
  {
   "cell_type": "markdown",
   "metadata": {},
   "source": [
    "## Prediction Evaluation"
   ]
  },
  {
   "cell_type": "code",
   "execution_count": 68,
   "metadata": {},
   "outputs": [
    {
     "name": "stdout",
     "output_type": "stream",
     "text": [
      "Excluded 0 (32351) samples. 32351 remaining ...\n",
      "Excluded 0 (32351) samples. 32351 remaining ...\n",
      "Excluded 0 (32351) samples. 32351 remaining ...\n",
      "Excluded 0 (32351) samples. 32351 remaining ...\n",
      "Excluded 0 (32351) samples. 32351 remaining ...\n",
      "Excluded 0 (32351) samples. 32351 remaining ...\n"
     ]
    }
   ],
   "source": [
    "# SVD++ Prediction Evaluation\n",
    "eval_svdpp=eval.evaluate(prediction=prediction_svdpp,topn=15,rating_cutoff=0.70,excl_impossible=True)\n",
    "\n",
    "# SVD Prediction Evaluation\n",
    "eval_svd=eval.evaluate(prediction=prediction_svd,topn=15,rating_cutoff=0.70,excl_impossible=True)\n",
    "\n",
    "# BaselineOnly Prediction Evaluation\n",
    "eval_baselineonly=eval.evaluate(prediction=prediction_baselineonly,topn=15,rating_cutoff=0.70,excl_impossible=True)\n"
   ]
  },
  {
   "cell_type": "code",
   "execution_count": 69,
   "metadata": {},
   "outputs": [
    {
     "data": {
      "text/html": [
       "<div>\n",
       "<style scoped>\n",
       "    .dataframe tbody tr th:only-of-type {\n",
       "        vertical-align: middle;\n",
       "    }\n",
       "\n",
       "    .dataframe tbody tr th {\n",
       "        vertical-align: top;\n",
       "    }\n",
       "\n",
       "    .dataframe thead th {\n",
       "        text-align: right;\n",
       "    }\n",
       "</style>\n",
       "<table border=\"1\" class=\"dataframe\">\n",
       "  <thead>\n",
       "    <tr style=\"text-align: right;\">\n",
       "      <th></th>\n",
       "      <th>SVD++</th>\n",
       "      <th>SVD</th>\n",
       "      <th>BaselineOnly</th>\n",
       "    </tr>\n",
       "  </thead>\n",
       "  <tbody>\n",
       "    <tr>\n",
       "      <th>RMSE</th>\n",
       "      <td>1.078716</td>\n",
       "      <td>1.079869</td>\n",
       "      <td>1.084590</td>\n",
       "    </tr>\n",
       "    <tr>\n",
       "      <th>MAE</th>\n",
       "      <td>0.787148</td>\n",
       "      <td>0.799613</td>\n",
       "      <td>0.818280</td>\n",
       "    </tr>\n",
       "    <tr>\n",
       "      <th>Recall</th>\n",
       "      <td>1.000000</td>\n",
       "      <td>1.000000</td>\n",
       "      <td>1.000000</td>\n",
       "    </tr>\n",
       "    <tr>\n",
       "      <th>Precision</th>\n",
       "      <td>1.000000</td>\n",
       "      <td>1.000000</td>\n",
       "      <td>1.000000</td>\n",
       "    </tr>\n",
       "    <tr>\n",
       "      <th>F1</th>\n",
       "      <td>1.000000</td>\n",
       "      <td>1.000000</td>\n",
       "      <td>1.000000</td>\n",
       "    </tr>\n",
       "    <tr>\n",
       "      <th>NDCG@15</th>\n",
       "      <td>0.911032</td>\n",
       "      <td>0.909081</td>\n",
       "      <td>0.909148</td>\n",
       "    </tr>\n",
       "  </tbody>\n",
       "</table>\n",
       "</div>"
      ],
      "text/plain": [
       "              SVD++       SVD  BaselineOnly\n",
       "RMSE       1.078716  1.079869      1.084590\n",
       "MAE        0.787148  0.799613      0.818280\n",
       "Recall     1.000000  1.000000      1.000000\n",
       "Precision  1.000000  1.000000      1.000000\n",
       "F1         1.000000  1.000000      1.000000\n",
       "NDCG@15    0.911032  0.909081      0.909148"
      ]
     },
     "execution_count": 69,
     "metadata": {},
     "output_type": "execute_result"
    }
   ],
   "source": [
    "# Putting all togheter in the same data frame \n",
    "all_evals=pd.DataFrame(eval_svdpp)\n",
    "all_evals['SVD++']=eval_svdpp['value']\n",
    "all_evals['SVD']=eval_svd['value']\n",
    "all_evals['BaselineOnly']=eval_baselineonly['value']\n",
    "all_evals=all_evals.drop(['value'],axis=1)\n",
    "all_evals"
   ]
  },
  {
   "cell_type": "markdown",
   "metadata": {},
   "source": [
    "Evaluation Analisys."
   ]
  },
  {
   "cell_type": "markdown",
   "metadata": {},
   "source": [
    "* RMSE: This is a measure of the error of the models where alwayes we should use the model with the lowest values. In this case we see that the model with the highest error is BaselineOnly and SVD++ and SVD have lower values.\n",
    "Something to consider is that during the process of this project the lowest value was switching sides between SVD++ and SVD.\n",
    "* MAE: This measure refers to how the prediction of an observation is similar to real value of the observation. In this case we can se that BaseLineOnly has the major value.\n",
    "* RECALL: This measure refers to the identification to the true positives. In our case all the three models have the same value, which mean that all three models identify 100% the true positives.\n",
    "* PRECISION: This measure reflects the quality of the positive prediction of the the three models. In this case all of them have the same value.\n",
    "* F1: This measure is the weighted average of Precision and Recall. In our case all three models have the same score.\n"
   ]
  },
  {
   "cell_type": "markdown",
   "metadata": {},
   "source": [
    "Now lets use the train set provided to the create the predictions for the Kaggle competition"
   ]
  },
  {
   "cell_type": "markdown",
   "metadata": {},
   "source": [
    "### 1) Singular Vector Decomposition (SVD)"
   ]
  },
  {
   "cell_type": "markdown",
   "metadata": {},
   "source": [
    "The SVD is a matrix factorisation technique, which reduces the number of features of a dataset by reducing the space dimension from N-dimension to K-dimension (where K<N). In this technique each row represents a user, and each column represents an item. The elements of this matrix are the ratings that are given to items by users."
   ]
  },
  {
   "cell_type": "markdown",
   "metadata": {},
   "source": [
    "This methods generalizes the eigendencomposition of a square matrix (n x n) to any matrix (n x m)."
   ]
  },
  {
   "cell_type": "markdown",
   "metadata": {},
   "source": [
    "Now lets prepare the data for the Kaggle competition 1st submittion"
   ]
  },
  {
   "cell_type": "code",
   "execution_count": 70,
   "metadata": {},
   "outputs": [],
   "source": [
    "# Surprise training and test set\n",
    "df_train1 = Dataset.load_from_df(train, reader).build_full_trainset()\n",
    "\n",
    "# Here I am renaming the test dataset to make it consistent with the file example to submit it Kaggle\n",
    "test_s=pd.DataFrame()\n",
    "test_s['uid']=test['userID']\n",
    "test_s['iid']=test['asin']\n",
    "test_s['r_ui']=test['ID']\n",
    "df_test = list(test_s.itertuples(index=False, name=None))"
   ]
  },
  {
   "cell_type": "markdown",
   "metadata": {},
   "source": [
    "#### PREDICTION SVD"
   ]
  },
  {
   "cell_type": "code",
   "execution_count": 71,
   "metadata": {},
   "outputs": [],
   "source": [
    "svd=SVD()\n",
    "\n",
    "# SVD train data frame fit\n",
    "svd.fit(df_train1)\n",
    "\n",
    "# Now \n",
    "prediction_1=svd.test(df_test)"
   ]
  },
  {
   "cell_type": "code",
   "execution_count": 72,
   "metadata": {},
   "outputs": [
    {
     "data": {
      "text/html": [
       "<div>\n",
       "<style scoped>\n",
       "    .dataframe tbody tr th:only-of-type {\n",
       "        vertical-align: middle;\n",
       "    }\n",
       "\n",
       "    .dataframe tbody tr th {\n",
       "        vertical-align: top;\n",
       "    }\n",
       "\n",
       "    .dataframe thead th {\n",
       "        text-align: right;\n",
       "    }\n",
       "</style>\n",
       "<table border=\"1\" class=\"dataframe\">\n",
       "  <thead>\n",
       "    <tr style=\"text-align: right;\">\n",
       "      <th></th>\n",
       "      <th>uid</th>\n",
       "      <th>iid</th>\n",
       "      <th>r_ui</th>\n",
       "      <th>est</th>\n",
       "      <th>details</th>\n",
       "    </tr>\n",
       "  </thead>\n",
       "  <tbody>\n",
       "    <tr>\n",
       "      <th>0</th>\n",
       "      <td>21069</td>\n",
       "      <td>B00BFK2B24</td>\n",
       "      <td>21069B00BFK2B24</td>\n",
       "      <td>3.453793</td>\n",
       "      <td>{'was_impossible': False}</td>\n",
       "    </tr>\n",
       "    <tr>\n",
       "      <th>1</th>\n",
       "      <td>3506</td>\n",
       "      <td>B00ZK0Y7R2</td>\n",
       "      <td>3506B00ZK0Y7R2</td>\n",
       "      <td>3.406495</td>\n",
       "      <td>{'was_impossible': False}</td>\n",
       "    </tr>\n",
       "    <tr>\n",
       "      <th>2</th>\n",
       "      <td>21907</td>\n",
       "      <td>B0002AQPA2</td>\n",
       "      <td>21907B0002AQPA2</td>\n",
       "      <td>4.147731</td>\n",
       "      <td>{'was_impossible': False}</td>\n",
       "    </tr>\n",
       "    <tr>\n",
       "      <th>3</th>\n",
       "      <td>14092</td>\n",
       "      <td>B0002DHXX2</td>\n",
       "      <td>14092B0002DHXX2</td>\n",
       "      <td>4.646227</td>\n",
       "      <td>{'was_impossible': False}</td>\n",
       "    </tr>\n",
       "    <tr>\n",
       "      <th>4</th>\n",
       "      <td>3085</td>\n",
       "      <td>B0006VB3SQ</td>\n",
       "      <td>3085B0006VB3SQ</td>\n",
       "      <td>3.976079</td>\n",
       "      <td>{'was_impossible': False}</td>\n",
       "    </tr>\n",
       "    <tr>\n",
       "      <th>...</th>\n",
       "      <td>...</td>\n",
       "      <td>...</td>\n",
       "      <td>...</td>\n",
       "      <td>...</td>\n",
       "      <td>...</td>\n",
       "    </tr>\n",
       "    <tr>\n",
       "      <th>76038</th>\n",
       "      <td>9343</td>\n",
       "      <td>B004GFN2ZA</td>\n",
       "      <td>9343B004GFN2ZA</td>\n",
       "      <td>4.283108</td>\n",
       "      <td>{'was_impossible': False}</td>\n",
       "    </tr>\n",
       "    <tr>\n",
       "      <th>76039</th>\n",
       "      <td>17932</td>\n",
       "      <td>B000JZOQO2</td>\n",
       "      <td>17932B000JZOQO2</td>\n",
       "      <td>4.239743</td>\n",
       "      <td>{'was_impossible': False}</td>\n",
       "    </tr>\n",
       "    <tr>\n",
       "      <th>76040</th>\n",
       "      <td>14272</td>\n",
       "      <td>B005440HLO</td>\n",
       "      <td>14272B005440HLO</td>\n",
       "      <td>3.920995</td>\n",
       "      <td>{'was_impossible': False}</td>\n",
       "    </tr>\n",
       "    <tr>\n",
       "      <th>76041</th>\n",
       "      <td>11151</td>\n",
       "      <td>B0002VAZSY</td>\n",
       "      <td>11151B0002VAZSY</td>\n",
       "      <td>4.378849</td>\n",
       "      <td>{'was_impossible': False}</td>\n",
       "    </tr>\n",
       "    <tr>\n",
       "      <th>76042</th>\n",
       "      <td>12400</td>\n",
       "      <td>B002JM0DOA</td>\n",
       "      <td>12400B002JM0DOA</td>\n",
       "      <td>3.906183</td>\n",
       "      <td>{'was_impossible': False}</td>\n",
       "    </tr>\n",
       "  </tbody>\n",
       "</table>\n",
       "<p>76043 rows × 5 columns</p>\n",
       "</div>"
      ],
      "text/plain": [
       "         uid         iid             r_ui       est                    details\n",
       "0      21069  B00BFK2B24  21069B00BFK2B24  3.453793  {'was_impossible': False}\n",
       "1       3506  B00ZK0Y7R2   3506B00ZK0Y7R2  3.406495  {'was_impossible': False}\n",
       "2      21907  B0002AQPA2  21907B0002AQPA2  4.147731  {'was_impossible': False}\n",
       "3      14092  B0002DHXX2  14092B0002DHXX2  4.646227  {'was_impossible': False}\n",
       "4       3085  B0006VB3SQ   3085B0006VB3SQ  3.976079  {'was_impossible': False}\n",
       "...      ...         ...              ...       ...                        ...\n",
       "76038   9343  B004GFN2ZA   9343B004GFN2ZA  4.283108  {'was_impossible': False}\n",
       "76039  17932  B000JZOQO2  17932B000JZOQO2  4.239743  {'was_impossible': False}\n",
       "76040  14272  B005440HLO  14272B005440HLO  3.920995  {'was_impossible': False}\n",
       "76041  11151  B0002VAZSY  11151B0002VAZSY  4.378849  {'was_impossible': False}\n",
       "76042  12400  B002JM0DOA  12400B002JM0DOA  3.906183  {'was_impossible': False}\n",
       "\n",
       "[76043 rows x 5 columns]"
      ]
     },
     "execution_count": 72,
     "metadata": {},
     "output_type": "execute_result"
    }
   ],
   "source": [
    "# Visualization of the prediction_1 as data frame\n",
    "Prediction_1=pd.DataFrame(prediction_1)\n",
    "Prediction_1"
   ]
  },
  {
   "cell_type": "code",
   "execution_count": null,
   "metadata": {},
   "outputs": [],
   "source": [
    "### Exporting to CSV file for Kaggle first submition.\n",
    "final_1=pd.DataFrame()\n",
    "final_1['ID']=Prediction_1['r_ui']\n",
    "final_1['overall']=Prediction_1['est']\n",
    "final_1.to_csv('Omar_1.csv',index=False)"
   ]
  },
  {
   "cell_type": "markdown",
   "metadata": {},
   "source": [
    "### 2)  Singular Vector Decomposition plus plus (SVDpp)"
   ]
  },
  {
   "cell_type": "markdown",
   "metadata": {},
   "source": [
    "The SVDpp algorithm is an extension of SVD that takes into account implicit ratings"
   ]
  },
  {
   "cell_type": "markdown",
   "metadata": {},
   "source": [
    "Li, S., 2022. Building and Testing Recommender Systems With Surprise, Step-By-Step. [online] Medium. Available at: <https://towardsdatascience.com/building-and-testing-recommender-systems-with-surprise-step-by-step-d4ba702ef80b> [Accessed 6 March 2022]."
   ]
  },
  {
   "cell_type": "markdown",
   "metadata": {},
   "source": [
    "#### Prediction SVDpp()"
   ]
  },
  {
   "cell_type": "code",
   "execution_count": 73,
   "metadata": {},
   "outputs": [],
   "source": [
    "svdpp=SVDpp()\n",
    "\n",
    "# SVDpp train data frame fit\n",
    "svdpp.fit(df_train1)\n",
    "\n",
    "# Now\n",
    "prediction_2=svdpp.test(df_test)"
   ]
  },
  {
   "cell_type": "code",
   "execution_count": 74,
   "metadata": {},
   "outputs": [
    {
     "data": {
      "text/html": [
       "<div>\n",
       "<style scoped>\n",
       "    .dataframe tbody tr th:only-of-type {\n",
       "        vertical-align: middle;\n",
       "    }\n",
       "\n",
       "    .dataframe tbody tr th {\n",
       "        vertical-align: top;\n",
       "    }\n",
       "\n",
       "    .dataframe thead th {\n",
       "        text-align: right;\n",
       "    }\n",
       "</style>\n",
       "<table border=\"1\" class=\"dataframe\">\n",
       "  <thead>\n",
       "    <tr style=\"text-align: right;\">\n",
       "      <th></th>\n",
       "      <th>uid</th>\n",
       "      <th>iid</th>\n",
       "      <th>r_ui</th>\n",
       "      <th>est</th>\n",
       "      <th>details</th>\n",
       "    </tr>\n",
       "  </thead>\n",
       "  <tbody>\n",
       "    <tr>\n",
       "      <th>0</th>\n",
       "      <td>21069</td>\n",
       "      <td>B00BFK2B24</td>\n",
       "      <td>21069B00BFK2B24</td>\n",
       "      <td>3.310369</td>\n",
       "      <td>{'was_impossible': False}</td>\n",
       "    </tr>\n",
       "    <tr>\n",
       "      <th>1</th>\n",
       "      <td>3506</td>\n",
       "      <td>B00ZK0Y7R2</td>\n",
       "      <td>3506B00ZK0Y7R2</td>\n",
       "      <td>3.409923</td>\n",
       "      <td>{'was_impossible': False}</td>\n",
       "    </tr>\n",
       "    <tr>\n",
       "      <th>2</th>\n",
       "      <td>21907</td>\n",
       "      <td>B0002AQPA2</td>\n",
       "      <td>21907B0002AQPA2</td>\n",
       "      <td>3.943403</td>\n",
       "      <td>{'was_impossible': False}</td>\n",
       "    </tr>\n",
       "    <tr>\n",
       "      <th>3</th>\n",
       "      <td>14092</td>\n",
       "      <td>B0002DHXX2</td>\n",
       "      <td>14092B0002DHXX2</td>\n",
       "      <td>4.938923</td>\n",
       "      <td>{'was_impossible': False}</td>\n",
       "    </tr>\n",
       "    <tr>\n",
       "      <th>4</th>\n",
       "      <td>3085</td>\n",
       "      <td>B0006VB3SQ</td>\n",
       "      <td>3085B0006VB3SQ</td>\n",
       "      <td>4.219306</td>\n",
       "      <td>{'was_impossible': False}</td>\n",
       "    </tr>\n",
       "    <tr>\n",
       "      <th>...</th>\n",
       "      <td>...</td>\n",
       "      <td>...</td>\n",
       "      <td>...</td>\n",
       "      <td>...</td>\n",
       "      <td>...</td>\n",
       "    </tr>\n",
       "    <tr>\n",
       "      <th>76038</th>\n",
       "      <td>9343</td>\n",
       "      <td>B004GFN2ZA</td>\n",
       "      <td>9343B004GFN2ZA</td>\n",
       "      <td>4.430889</td>\n",
       "      <td>{'was_impossible': False}</td>\n",
       "    </tr>\n",
       "    <tr>\n",
       "      <th>76039</th>\n",
       "      <td>17932</td>\n",
       "      <td>B000JZOQO2</td>\n",
       "      <td>17932B000JZOQO2</td>\n",
       "      <td>4.500984</td>\n",
       "      <td>{'was_impossible': False}</td>\n",
       "    </tr>\n",
       "    <tr>\n",
       "      <th>76040</th>\n",
       "      <td>14272</td>\n",
       "      <td>B005440HLO</td>\n",
       "      <td>14272B005440HLO</td>\n",
       "      <td>3.936457</td>\n",
       "      <td>{'was_impossible': False}</td>\n",
       "    </tr>\n",
       "    <tr>\n",
       "      <th>76041</th>\n",
       "      <td>11151</td>\n",
       "      <td>B0002VAZSY</td>\n",
       "      <td>11151B0002VAZSY</td>\n",
       "      <td>3.961824</td>\n",
       "      <td>{'was_impossible': False}</td>\n",
       "    </tr>\n",
       "    <tr>\n",
       "      <th>76042</th>\n",
       "      <td>12400</td>\n",
       "      <td>B002JM0DOA</td>\n",
       "      <td>12400B002JM0DOA</td>\n",
       "      <td>4.161580</td>\n",
       "      <td>{'was_impossible': False}</td>\n",
       "    </tr>\n",
       "  </tbody>\n",
       "</table>\n",
       "<p>76043 rows × 5 columns</p>\n",
       "</div>"
      ],
      "text/plain": [
       "         uid         iid             r_ui       est                    details\n",
       "0      21069  B00BFK2B24  21069B00BFK2B24  3.310369  {'was_impossible': False}\n",
       "1       3506  B00ZK0Y7R2   3506B00ZK0Y7R2  3.409923  {'was_impossible': False}\n",
       "2      21907  B0002AQPA2  21907B0002AQPA2  3.943403  {'was_impossible': False}\n",
       "3      14092  B0002DHXX2  14092B0002DHXX2  4.938923  {'was_impossible': False}\n",
       "4       3085  B0006VB3SQ   3085B0006VB3SQ  4.219306  {'was_impossible': False}\n",
       "...      ...         ...              ...       ...                        ...\n",
       "76038   9343  B004GFN2ZA   9343B004GFN2ZA  4.430889  {'was_impossible': False}\n",
       "76039  17932  B000JZOQO2  17932B000JZOQO2  4.500984  {'was_impossible': False}\n",
       "76040  14272  B005440HLO  14272B005440HLO  3.936457  {'was_impossible': False}\n",
       "76041  11151  B0002VAZSY  11151B0002VAZSY  3.961824  {'was_impossible': False}\n",
       "76042  12400  B002JM0DOA  12400B002JM0DOA  4.161580  {'was_impossible': False}\n",
       "\n",
       "[76043 rows x 5 columns]"
      ]
     },
     "execution_count": 74,
     "metadata": {},
     "output_type": "execute_result"
    }
   ],
   "source": [
    "# Visualization of the prediction_2 as data frame\n",
    "Prediction_2=pd.DataFrame(prediction_2)\n",
    "Prediction_2"
   ]
  },
  {
   "cell_type": "code",
   "execution_count": null,
   "metadata": {},
   "outputs": [],
   "source": [
    "# Exporting to CSV file for Kaggle second submition\n",
    "final_2=pd.DataFrame()\n",
    "final_2['ID']=Prediction_2['r_ui']\n",
    "final_2['overall']=Prediction_2['est']\n",
    "final_2.to_csv('Omar_2.csv',index=False)"
   ]
  },
  {
   "cell_type": "markdown",
   "metadata": {},
   "source": [
    "### 3) BaselineOnly"
   ]
  },
  {
   "cell_type": "markdown",
   "metadata": {},
   "source": [
    "This algorithms is used to predict the baseline estimate for given user and item. This algorithms could be used to compare how well perform the other two algorithms."
   ]
  },
  {
   "cell_type": "markdown",
   "metadata": {},
   "source": [
    "Li, S., 2022. Building and Testing Recommender Systems With Surprise, Step-By-Step. [online] Medium. Available at: <https://towardsdatascience.com/building-and-testing-recommender-systems-with-surprise-step-by-step-d4ba702ef80b> [Accessed 6 March 2022]."
   ]
  },
  {
   "cell_type": "markdown",
   "metadata": {},
   "source": [
    "#### Prediction BaselineOnly()"
   ]
  },
  {
   "cell_type": "code",
   "execution_count": 75,
   "metadata": {},
   "outputs": [
    {
     "name": "stdout",
     "output_type": "stream",
     "text": [
      "Estimating biases using als...\n"
     ]
    }
   ],
   "source": [
    "BaselineOnly=BaselineOnly()\n",
    "\n",
    "# BaselineOnly train data frame fit\n",
    "BaselineOnly.fit(df_train1)\n",
    "\n",
    "# Now\n",
    "prediction_3=BaselineOnly.test(df_test)"
   ]
  },
  {
   "cell_type": "code",
   "execution_count": 76,
   "metadata": {},
   "outputs": [
    {
     "data": {
      "text/html": [
       "<div>\n",
       "<style scoped>\n",
       "    .dataframe tbody tr th:only-of-type {\n",
       "        vertical-align: middle;\n",
       "    }\n",
       "\n",
       "    .dataframe tbody tr th {\n",
       "        vertical-align: top;\n",
       "    }\n",
       "\n",
       "    .dataframe thead th {\n",
       "        text-align: right;\n",
       "    }\n",
       "</style>\n",
       "<table border=\"1\" class=\"dataframe\">\n",
       "  <thead>\n",
       "    <tr style=\"text-align: right;\">\n",
       "      <th></th>\n",
       "      <th>uid</th>\n",
       "      <th>iid</th>\n",
       "      <th>r_ui</th>\n",
       "      <th>est</th>\n",
       "      <th>details</th>\n",
       "    </tr>\n",
       "  </thead>\n",
       "  <tbody>\n",
       "    <tr>\n",
       "      <th>0</th>\n",
       "      <td>21069</td>\n",
       "      <td>B00BFK2B24</td>\n",
       "      <td>21069B00BFK2B24</td>\n",
       "      <td>3.631746</td>\n",
       "      <td>{'was_impossible': False}</td>\n",
       "    </tr>\n",
       "    <tr>\n",
       "      <th>1</th>\n",
       "      <td>3506</td>\n",
       "      <td>B00ZK0Y7R2</td>\n",
       "      <td>3506B00ZK0Y7R2</td>\n",
       "      <td>3.690602</td>\n",
       "      <td>{'was_impossible': False}</td>\n",
       "    </tr>\n",
       "    <tr>\n",
       "      <th>2</th>\n",
       "      <td>21907</td>\n",
       "      <td>B0002AQPA2</td>\n",
       "      <td>21907B0002AQPA2</td>\n",
       "      <td>4.182187</td>\n",
       "      <td>{'was_impossible': False}</td>\n",
       "    </tr>\n",
       "    <tr>\n",
       "      <th>3</th>\n",
       "      <td>14092</td>\n",
       "      <td>B0002DHXX2</td>\n",
       "      <td>14092B0002DHXX2</td>\n",
       "      <td>4.429364</td>\n",
       "      <td>{'was_impossible': False}</td>\n",
       "    </tr>\n",
       "    <tr>\n",
       "      <th>4</th>\n",
       "      <td>3085</td>\n",
       "      <td>B0006VB3SQ</td>\n",
       "      <td>3085B0006VB3SQ</td>\n",
       "      <td>4.305398</td>\n",
       "      <td>{'was_impossible': False}</td>\n",
       "    </tr>\n",
       "    <tr>\n",
       "      <th>...</th>\n",
       "      <td>...</td>\n",
       "      <td>...</td>\n",
       "      <td>...</td>\n",
       "      <td>...</td>\n",
       "      <td>...</td>\n",
       "    </tr>\n",
       "    <tr>\n",
       "      <th>76038</th>\n",
       "      <td>9343</td>\n",
       "      <td>B004GFN2ZA</td>\n",
       "      <td>9343B004GFN2ZA</td>\n",
       "      <td>4.344516</td>\n",
       "      <td>{'was_impossible': False}</td>\n",
       "    </tr>\n",
       "    <tr>\n",
       "      <th>76039</th>\n",
       "      <td>17932</td>\n",
       "      <td>B000JZOQO2</td>\n",
       "      <td>17932B000JZOQO2</td>\n",
       "      <td>4.278848</td>\n",
       "      <td>{'was_impossible': False}</td>\n",
       "    </tr>\n",
       "    <tr>\n",
       "      <th>76040</th>\n",
       "      <td>14272</td>\n",
       "      <td>B005440HLO</td>\n",
       "      <td>14272B005440HLO</td>\n",
       "      <td>3.912084</td>\n",
       "      <td>{'was_impossible': False}</td>\n",
       "    </tr>\n",
       "    <tr>\n",
       "      <th>76041</th>\n",
       "      <td>11151</td>\n",
       "      <td>B0002VAZSY</td>\n",
       "      <td>11151B0002VAZSY</td>\n",
       "      <td>4.201135</td>\n",
       "      <td>{'was_impossible': False}</td>\n",
       "    </tr>\n",
       "    <tr>\n",
       "      <th>76042</th>\n",
       "      <td>12400</td>\n",
       "      <td>B002JM0DOA</td>\n",
       "      <td>12400B002JM0DOA</td>\n",
       "      <td>3.892770</td>\n",
       "      <td>{'was_impossible': False}</td>\n",
       "    </tr>\n",
       "  </tbody>\n",
       "</table>\n",
       "<p>76043 rows × 5 columns</p>\n",
       "</div>"
      ],
      "text/plain": [
       "         uid         iid             r_ui       est                    details\n",
       "0      21069  B00BFK2B24  21069B00BFK2B24  3.631746  {'was_impossible': False}\n",
       "1       3506  B00ZK0Y7R2   3506B00ZK0Y7R2  3.690602  {'was_impossible': False}\n",
       "2      21907  B0002AQPA2  21907B0002AQPA2  4.182187  {'was_impossible': False}\n",
       "3      14092  B0002DHXX2  14092B0002DHXX2  4.429364  {'was_impossible': False}\n",
       "4       3085  B0006VB3SQ   3085B0006VB3SQ  4.305398  {'was_impossible': False}\n",
       "...      ...         ...              ...       ...                        ...\n",
       "76038   9343  B004GFN2ZA   9343B004GFN2ZA  4.344516  {'was_impossible': False}\n",
       "76039  17932  B000JZOQO2  17932B000JZOQO2  4.278848  {'was_impossible': False}\n",
       "76040  14272  B005440HLO  14272B005440HLO  3.912084  {'was_impossible': False}\n",
       "76041  11151  B0002VAZSY  11151B0002VAZSY  4.201135  {'was_impossible': False}\n",
       "76042  12400  B002JM0DOA  12400B002JM0DOA  3.892770  {'was_impossible': False}\n",
       "\n",
       "[76043 rows x 5 columns]"
      ]
     },
     "execution_count": 76,
     "metadata": {},
     "output_type": "execute_result"
    }
   ],
   "source": [
    "# Visualization of the prediction_3 as data frame\n",
    "Prediction_3=pd.DataFrame(prediction_3)\n",
    "Prediction_3"
   ]
  },
  {
   "cell_type": "code",
   "execution_count": null,
   "metadata": {},
   "outputs": [],
   "source": [
    "# Exporting to CSV file for Kaggle third submition\n",
    "final_3=pd.DataFrame()\n",
    "final_3['ID']=Prediction_3['r_ui']\n",
    "final_3['overall']=Prediction_3['est']\n",
    "final_3.to_csv('Omar_3.csv',index=False)"
   ]
  },
  {
   "cell_type": "markdown",
   "metadata": {},
   "source": [
    "## Cross-Validation Algorithms"
   ]
  },
  {
   "cell_type": "markdown",
   "metadata": {},
   "source": [
    "### Tunning Hyperparameters for SVD()\n",
    "Function GridSearchCV()"
   ]
  },
  {
   "cell_type": "markdown",
   "metadata": {},
   "source": [
    "In this step I am setting the parameters combination so GridSearch() can do an exhaustive try of combinations to determine and provide the best parametter for SVD() which was the algorithms with the best evaluation measures.\n"
   ]
  },
  {
   "cell_type": "markdown",
   "metadata": {},
   "source": [
    "Parameters:"
   ]
  },
  {
   "cell_type": "markdown",
   "metadata": {},
   "source": [
    "* n_factors – The number of factors. Default is 100.\n",
    "* n_epochs – The number of iteration of the SGD procedure. Default is 20.\n",
    "* biased (bool) – Whether to use baselines (or biases). See note above. Default is True.\n",
    "* init_mean – The mean of the normal distribution for factor vectors initialization. Default is 0.\n",
    "* init_std_dev – The standard deviation of the normal distribution for factor vectors initialization. Default is 0.1.\n",
    "* lr_all – The learning rate for all parameters. Default is 0.005.\n",
    "* reg_all – The regularization term for all parameters. Default is 0.02.\n",
    "* lr_bu – The learning rate for 𝑏𝑢. Takes precedence over lr_all if set. Default is None.\n",
    "* lr_bi – The learning rate for 𝑏𝑖. Takes precedence over lr_all if set. Default is None.\n",
    "* lr_pu – The learning rate for 𝑝𝑢. Takes precedence over lr_all if set. Default is None.\n",
    "* lr_qi – The learning rate for 𝑞𝑖. Takes precedence over lr_all if set. Default is None.\n",
    "* reg_bu – The regularization term for 𝑏𝑢. Takes precedence over reg_all if set. Default is None.\n",
    "* reg_bi – The regularization term for 𝑏𝑖. Takes precedence over reg_all if set. Default is None.\n",
    "* reg_pu – The regularization term for 𝑝𝑢. Takes precedence over reg_all if set. Default is None.\n",
    "* reg_qi – The regularization term for 𝑞𝑖. Takes precedence over reg_all if set. Default is None.\n",
    "* random_state (int, RandomState instance from numpy, or None) – Determines the RNG that will be used for initialization. If int, random_state will be used as a seed for a new RNG. This is useful to get the same initialization over multiple calls to fit(). If RandomState instance, this same instance is used as RNG. If None, the current RNG from numpy is used. Default is None.\n",
    "* verbose – If True, prints the current epoch. Default is False.\n",
    "\n",
    "In my case I am not mentioning/typing in the code the parameters that are None by default (Not need to type) and only playing with n_factors, n_epochs, lr_all and reg_all specifically."
   ]
  },
  {
   "cell_type": "code",
   "execution_count": 77,
   "metadata": {},
   "outputs": [],
   "source": [
    "# Preparing my data.\n",
    "data = Dataset.load_from_df(train, reader)"
   ]
  },
  {
   "cell_type": "code",
   "execution_count": 88,
   "metadata": {},
   "outputs": [],
   "source": [
    "param_grid = {'n_factors':[5,10,15,20,50,100,150],'n_epochs':[5,10,15,20,50,100,150],  'lr_all':[0.005,0.01],'reg_all':[0.02,0.1]}\n",
    "gs = GridSearchCV(SVD, param_grid, measures=['rmse'], cv=3)\n"
   ]
  },
  {
   "cell_type": "code",
   "execution_count": null,
   "metadata": {},
   "outputs": [],
   "source": [
    "# Fit the GridSearch() best parameters to the data\n",
    "gs.fit(data)\n",
    "params = gs.best_params['rmse']"
   ]
  },
  {
   "cell_type": "code",
   "execution_count": 37,
   "metadata": {
    "scrolled": true
   },
   "outputs": [
    {
     "name": "stdout",
     "output_type": "stream",
     "text": [
      "{'n_factors': 150, 'n_epochs': 150, 'lr_all': 0.01, 'reg_all': 0.1}\n"
     ]
    }
   ],
   "source": [
    "# These are the parameters suggested after GridSearchCV() which were used for the svdtuned prediction\n",
    "print(params)"
   ]
  },
  {
   "cell_type": "markdown",
   "metadata": {},
   "source": [
    "This are the best parameters done during the Cross-Validation for SVD which is my best score in Kaggle.\n",
    "* n_factors: 150\n",
    "* n_epochs: 150\n",
    "* lr_all: 0.01\n",
    "* reg_all: 0.1"
   ]
  },
  {
   "cell_type": "code",
   "execution_count": 36,
   "metadata": {
    "scrolled": true
   },
   "outputs": [
    {
     "data": {
      "text/html": [
       "<div>\n",
       "<style scoped>\n",
       "    .dataframe tbody tr th:only-of-type {\n",
       "        vertical-align: middle;\n",
       "    }\n",
       "\n",
       "    .dataframe tbody tr th {\n",
       "        vertical-align: top;\n",
       "    }\n",
       "\n",
       "    .dataframe thead th {\n",
       "        text-align: right;\n",
       "    }\n",
       "</style>\n",
       "<table border=\"1\" class=\"dataframe\">\n",
       "  <thead>\n",
       "    <tr style=\"text-align: right;\">\n",
       "      <th></th>\n",
       "      <th>uid</th>\n",
       "      <th>iid</th>\n",
       "      <th>r_ui</th>\n",
       "      <th>est</th>\n",
       "      <th>details</th>\n",
       "    </tr>\n",
       "  </thead>\n",
       "  <tbody>\n",
       "    <tr>\n",
       "      <th>0</th>\n",
       "      <td>21069</td>\n",
       "      <td>B00BFK2B24</td>\n",
       "      <td>21069B00BFK2B24</td>\n",
       "      <td>2.636915</td>\n",
       "      <td>{'was_impossible': False}</td>\n",
       "    </tr>\n",
       "    <tr>\n",
       "      <th>1</th>\n",
       "      <td>3506</td>\n",
       "      <td>B00ZK0Y7R2</td>\n",
       "      <td>3506B00ZK0Y7R2</td>\n",
       "      <td>3.912990</td>\n",
       "      <td>{'was_impossible': False}</td>\n",
       "    </tr>\n",
       "    <tr>\n",
       "      <th>2</th>\n",
       "      <td>21907</td>\n",
       "      <td>B0002AQPA2</td>\n",
       "      <td>21907B0002AQPA2</td>\n",
       "      <td>3.470442</td>\n",
       "      <td>{'was_impossible': False}</td>\n",
       "    </tr>\n",
       "    <tr>\n",
       "      <th>3</th>\n",
       "      <td>14092</td>\n",
       "      <td>B0002DHXX2</td>\n",
       "      <td>14092B0002DHXX2</td>\n",
       "      <td>4.585183</td>\n",
       "      <td>{'was_impossible': False}</td>\n",
       "    </tr>\n",
       "    <tr>\n",
       "      <th>4</th>\n",
       "      <td>3085</td>\n",
       "      <td>B0006VB3SQ</td>\n",
       "      <td>3085B0006VB3SQ</td>\n",
       "      <td>4.547547</td>\n",
       "      <td>{'was_impossible': False}</td>\n",
       "    </tr>\n",
       "    <tr>\n",
       "      <th>...</th>\n",
       "      <td>...</td>\n",
       "      <td>...</td>\n",
       "      <td>...</td>\n",
       "      <td>...</td>\n",
       "      <td>...</td>\n",
       "    </tr>\n",
       "    <tr>\n",
       "      <th>76038</th>\n",
       "      <td>9343</td>\n",
       "      <td>B004GFN2ZA</td>\n",
       "      <td>9343B004GFN2ZA</td>\n",
       "      <td>4.396721</td>\n",
       "      <td>{'was_impossible': False}</td>\n",
       "    </tr>\n",
       "    <tr>\n",
       "      <th>76039</th>\n",
       "      <td>17932</td>\n",
       "      <td>B000JZOQO2</td>\n",
       "      <td>17932B000JZOQO2</td>\n",
       "      <td>4.868898</td>\n",
       "      <td>{'was_impossible': False}</td>\n",
       "    </tr>\n",
       "    <tr>\n",
       "      <th>76040</th>\n",
       "      <td>14272</td>\n",
       "      <td>B005440HLO</td>\n",
       "      <td>14272B005440HLO</td>\n",
       "      <td>4.298381</td>\n",
       "      <td>{'was_impossible': False}</td>\n",
       "    </tr>\n",
       "    <tr>\n",
       "      <th>76041</th>\n",
       "      <td>11151</td>\n",
       "      <td>B0002VAZSY</td>\n",
       "      <td>11151B0002VAZSY</td>\n",
       "      <td>4.396025</td>\n",
       "      <td>{'was_impossible': False}</td>\n",
       "    </tr>\n",
       "    <tr>\n",
       "      <th>76042</th>\n",
       "      <td>12400</td>\n",
       "      <td>B002JM0DOA</td>\n",
       "      <td>12400B002JM0DOA</td>\n",
       "      <td>4.176028</td>\n",
       "      <td>{'was_impossible': False}</td>\n",
       "    </tr>\n",
       "  </tbody>\n",
       "</table>\n",
       "<p>76043 rows × 5 columns</p>\n",
       "</div>"
      ],
      "text/plain": [
       "         uid         iid             r_ui       est                    details\n",
       "0      21069  B00BFK2B24  21069B00BFK2B24  2.636915  {'was_impossible': False}\n",
       "1       3506  B00ZK0Y7R2   3506B00ZK0Y7R2  3.912990  {'was_impossible': False}\n",
       "2      21907  B0002AQPA2  21907B0002AQPA2  3.470442  {'was_impossible': False}\n",
       "3      14092  B0002DHXX2  14092B0002DHXX2  4.585183  {'was_impossible': False}\n",
       "4       3085  B0006VB3SQ   3085B0006VB3SQ  4.547547  {'was_impossible': False}\n",
       "...      ...         ...              ...       ...                        ...\n",
       "76038   9343  B004GFN2ZA   9343B004GFN2ZA  4.396721  {'was_impossible': False}\n",
       "76039  17932  B000JZOQO2  17932B000JZOQO2  4.868898  {'was_impossible': False}\n",
       "76040  14272  B005440HLO  14272B005440HLO  4.298381  {'was_impossible': False}\n",
       "76041  11151  B0002VAZSY  11151B0002VAZSY  4.396025  {'was_impossible': False}\n",
       "76042  12400  B002JM0DOA  12400B002JM0DOA  4.176028  {'was_impossible': False}\n",
       "\n",
       "[76043 rows x 5 columns]"
      ]
     },
     "execution_count": 36,
     "metadata": {},
     "output_type": "execute_result"
    }
   ],
   "source": [
    "# Apply the new best parameters to the SVP() Algorithm.\n",
    "svdtuned = SVD(n_factors=params['n_factors'], n_epochs=params['n_epochs'],lr_all=params['lr_all'], reg_all=params['reg_all'])\n",
    "svdtuned.fit(df_train1)\n",
    "prediction_4=svdtuned.test(df_test)\n",
    "prediction_4=pd.DataFrame(prediction_4)\n",
    "prediction_4\n"
   ]
  },
  {
   "cell_type": "code",
   "execution_count": 38,
   "metadata": {},
   "outputs": [],
   "source": [
    "# Exporting for Kaggle Submition\n",
    "final_4=pd.DataFrame()\n",
    "final_4['ID']=prediction_4['r_ui']\n",
    "final_4['overall']=prediction_4['est']\n",
    "final_4.to_csv('Omar_4.csv',index=False)"
   ]
  },
  {
   "cell_type": "markdown",
   "metadata": {},
   "source": [
    "## Conclutions:"
   ]
  },
  {
   "cell_type": "markdown",
   "metadata": {},
   "source": [
    "* We can see that the RMSE values can variate between SDV and SDVpp, which in my case I toke SDV which was in the majority of the time the lowest value.\n",
    "* Across all the algorithms tested, SVD and SVD++ were the ones with the best perfomance. This could be related to the factorization technique which reduces the number of features. \n",
    "* The the cross-validation through GridSearchCV is a process that takes time, depending of the quatinty of parameters to evaluate.\n",
    "* The test dataset provide has a value called UID which was a mix of integers and string data values. This could not be used straight to the eval procedure due the RMSE and MAE computations are done based on the r_ui which in our case was the UID (after prediction process)."
   ]
  },
  {
   "cell_type": "markdown",
   "metadata": {},
   "source": [
    "## References:"
   ]
  },
  {
   "cell_type": "markdown",
   "metadata": {},
   "source": [
    "https://towardsdatascience.com/building-and-testing-recommender-systems-with-surprise-step-by-step-d4ba702ef80b"
   ]
  },
  {
   "cell_type": "markdown",
   "metadata": {},
   "source": [
    "https://towardsdatascience.com/svd-where-model-tuning-goes-wrong-61c269402919"
   ]
  },
  {
   "cell_type": "markdown",
   "metadata": {},
   "source": [
    "https://buomsoo-kim.github.io/recommender%20systems/2020/10/22/Recommender-systems-collab-filtering-14.md/"
   ]
  },
  {
   "cell_type": "markdown",
   "metadata": {},
   "source": [
    "https://pypi.org/project/scikit-surprise/"
   ]
  },
  {
   "cell_type": "markdown",
   "metadata": {},
   "source": [
    "https://analyticsindiamag.com/singular-value-decomposition-svd-application-recommender-system/"
   ]
  },
  {
   "cell_type": "markdown",
   "metadata": {},
   "source": [
    "https://towardsdatascience.com/simple-svd-algorithms-13291ad2eef2"
   ]
  },
  {
   "cell_type": "markdown",
   "metadata": {},
   "source": [
    "https://scholarworks.calstate.edu/downloads/1n79h8686"
   ]
  },
  {
   "cell_type": "markdown",
   "metadata": {},
   "source": [
    "https://blog.exsilio.com/all/accuracy-precision-recall-f1-score-interpretation-of-performance-measures/#:~:text=F1%20score%20%2D%20F1%20Score%20is,have%20an%20uneven%20class%20distribution."
   ]
  },
  {
   "cell_type": "markdown",
   "metadata": {},
   "source": [
    "https://surprise.readthedocs.io/en/stable/matrix_factorization.html"
   ]
  }
 ],
 "metadata": {
  "interpreter": {
   "hash": "a707b6ce8c685eb936424fcc3009d4b4b7a52543c4db09380a3fc49186ceb509"
  },
  "kernelspec": {
   "display_name": "Python 3 (ipykernel)",
   "language": "python",
   "name": "python3"
  },
  "language_info": {
   "codemirror_mode": {
    "name": "ipython",
    "version": 3
   },
   "file_extension": ".py",
   "mimetype": "text/x-python",
   "name": "python",
   "nbconvert_exporter": "python",
   "pygments_lexer": "ipython3",
   "version": "3.9.7"
  }
 },
 "nbformat": 4,
 "nbformat_minor": 2
}
